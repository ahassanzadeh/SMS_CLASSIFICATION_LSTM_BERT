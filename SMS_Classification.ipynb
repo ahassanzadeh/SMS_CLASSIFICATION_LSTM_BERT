{
  "nbformat": 4,
  "nbformat_minor": 0,
  "metadata": {
    "colab": {
      "name": "SMS_Classification.ipynb",
      "provenance": [],
      "machine_shape": "hm",
      "mount_file_id": "1_MmWulJr3EnoJLDem79F8Al8GwxG3qdT",
      "authorship_tag": "ABX9TyNqnVKMaiUg9o49sr1wGiOH",
      "include_colab_link": true
    },
    "kernelspec": {
      "name": "python3",
      "display_name": "Python 3"
    },
    "language_info": {
      "name": "python"
    },
    "accelerator": "GPU",
    "widgets": {
      "application/vnd.jupyter.widget-state+json": {
        "582bc686141643329e681bb0f15389fe": {
          "model_module": "@jupyter-widgets/controls",
          "model_name": "HBoxModel",
          "model_module_version": "1.5.0",
          "state": {
            "_view_name": "HBoxView",
            "_dom_classes": [],
            "_model_name": "HBoxModel",
            "_view_module": "@jupyter-widgets/controls",
            "_model_module_version": "1.5.0",
            "_view_count": null,
            "_view_module_version": "1.5.0",
            "box_style": "",
            "layout": "IPY_MODEL_927b3848e549416eaf91763c697c3c13",
            "_model_module": "@jupyter-widgets/controls",
            "children": [
              "IPY_MODEL_e25a44b9c28440bf999096bed7152fec",
              "IPY_MODEL_e3598774b2a54dbea8db58ebc92d44c6",
              "IPY_MODEL_6c9aa1d361854ec5b41d6c49548fb6ad"
            ]
          }
        },
        "927b3848e549416eaf91763c697c3c13": {
          "model_module": "@jupyter-widgets/base",
          "model_name": "LayoutModel",
          "model_module_version": "1.2.0",
          "state": {
            "_view_name": "LayoutView",
            "grid_template_rows": null,
            "right": null,
            "justify_content": null,
            "_view_module": "@jupyter-widgets/base",
            "overflow": null,
            "_model_module_version": "1.2.0",
            "_view_count": null,
            "flex_flow": null,
            "width": null,
            "min_width": null,
            "border": null,
            "align_items": null,
            "bottom": null,
            "_model_module": "@jupyter-widgets/base",
            "top": null,
            "grid_column": null,
            "overflow_y": null,
            "overflow_x": null,
            "grid_auto_flow": null,
            "grid_area": null,
            "grid_template_columns": null,
            "flex": null,
            "_model_name": "LayoutModel",
            "justify_items": null,
            "grid_row": null,
            "max_height": null,
            "align_content": null,
            "visibility": null,
            "align_self": null,
            "height": null,
            "min_height": null,
            "padding": null,
            "grid_auto_rows": null,
            "grid_gap": null,
            "max_width": null,
            "order": null,
            "_view_module_version": "1.2.0",
            "grid_template_areas": null,
            "object_position": null,
            "object_fit": null,
            "grid_auto_columns": null,
            "margin": null,
            "display": null,
            "left": null
          }
        },
        "e25a44b9c28440bf999096bed7152fec": {
          "model_module": "@jupyter-widgets/controls",
          "model_name": "HTMLModel",
          "model_module_version": "1.5.0",
          "state": {
            "_view_name": "HTMLView",
            "style": "IPY_MODEL_b4b6603eb88c4e88855fa717ef2213b9",
            "_dom_classes": [],
            "description": "",
            "_model_name": "HTMLModel",
            "placeholder": "​",
            "_view_module": "@jupyter-widgets/controls",
            "_model_module_version": "1.5.0",
            "value": "Downloading: 100%",
            "_view_count": null,
            "_view_module_version": "1.5.0",
            "description_tooltip": null,
            "_model_module": "@jupyter-widgets/controls",
            "layout": "IPY_MODEL_078a4713e3244e54807450b7b54bd338"
          }
        },
        "e3598774b2a54dbea8db58ebc92d44c6": {
          "model_module": "@jupyter-widgets/controls",
          "model_name": "FloatProgressModel",
          "model_module_version": "1.5.0",
          "state": {
            "_view_name": "ProgressView",
            "style": "IPY_MODEL_1df881660cf14a7cb60f55426d40b419",
            "_dom_classes": [],
            "description": "",
            "_model_name": "FloatProgressModel",
            "bar_style": "success",
            "max": 231508,
            "_view_module": "@jupyter-widgets/controls",
            "_model_module_version": "1.5.0",
            "value": 231508,
            "_view_count": null,
            "_view_module_version": "1.5.0",
            "orientation": "horizontal",
            "min": 0,
            "description_tooltip": null,
            "_model_module": "@jupyter-widgets/controls",
            "layout": "IPY_MODEL_0bd5166be4bf49f8957b9d579d83ca2f"
          }
        },
        "6c9aa1d361854ec5b41d6c49548fb6ad": {
          "model_module": "@jupyter-widgets/controls",
          "model_name": "HTMLModel",
          "model_module_version": "1.5.0",
          "state": {
            "_view_name": "HTMLView",
            "style": "IPY_MODEL_d67778626450440b84a69a8b6ea276cd",
            "_dom_classes": [],
            "description": "",
            "_model_name": "HTMLModel",
            "placeholder": "​",
            "_view_module": "@jupyter-widgets/controls",
            "_model_module_version": "1.5.0",
            "value": " 226k/226k [00:00&lt;00:00, 833kB/s]",
            "_view_count": null,
            "_view_module_version": "1.5.0",
            "description_tooltip": null,
            "_model_module": "@jupyter-widgets/controls",
            "layout": "IPY_MODEL_8effc7731ad748d9958588201534cb5b"
          }
        },
        "b4b6603eb88c4e88855fa717ef2213b9": {
          "model_module": "@jupyter-widgets/controls",
          "model_name": "DescriptionStyleModel",
          "model_module_version": "1.5.0",
          "state": {
            "_view_name": "StyleView",
            "_model_name": "DescriptionStyleModel",
            "description_width": "",
            "_view_module": "@jupyter-widgets/base",
            "_model_module_version": "1.5.0",
            "_view_count": null,
            "_view_module_version": "1.2.0",
            "_model_module": "@jupyter-widgets/controls"
          }
        },
        "078a4713e3244e54807450b7b54bd338": {
          "model_module": "@jupyter-widgets/base",
          "model_name": "LayoutModel",
          "model_module_version": "1.2.0",
          "state": {
            "_view_name": "LayoutView",
            "grid_template_rows": null,
            "right": null,
            "justify_content": null,
            "_view_module": "@jupyter-widgets/base",
            "overflow": null,
            "_model_module_version": "1.2.0",
            "_view_count": null,
            "flex_flow": null,
            "width": null,
            "min_width": null,
            "border": null,
            "align_items": null,
            "bottom": null,
            "_model_module": "@jupyter-widgets/base",
            "top": null,
            "grid_column": null,
            "overflow_y": null,
            "overflow_x": null,
            "grid_auto_flow": null,
            "grid_area": null,
            "grid_template_columns": null,
            "flex": null,
            "_model_name": "LayoutModel",
            "justify_items": null,
            "grid_row": null,
            "max_height": null,
            "align_content": null,
            "visibility": null,
            "align_self": null,
            "height": null,
            "min_height": null,
            "padding": null,
            "grid_auto_rows": null,
            "grid_gap": null,
            "max_width": null,
            "order": null,
            "_view_module_version": "1.2.0",
            "grid_template_areas": null,
            "object_position": null,
            "object_fit": null,
            "grid_auto_columns": null,
            "margin": null,
            "display": null,
            "left": null
          }
        },
        "1df881660cf14a7cb60f55426d40b419": {
          "model_module": "@jupyter-widgets/controls",
          "model_name": "ProgressStyleModel",
          "model_module_version": "1.5.0",
          "state": {
            "_view_name": "StyleView",
            "_model_name": "ProgressStyleModel",
            "description_width": "",
            "_view_module": "@jupyter-widgets/base",
            "_model_module_version": "1.5.0",
            "_view_count": null,
            "_view_module_version": "1.2.0",
            "bar_color": null,
            "_model_module": "@jupyter-widgets/controls"
          }
        },
        "0bd5166be4bf49f8957b9d579d83ca2f": {
          "model_module": "@jupyter-widgets/base",
          "model_name": "LayoutModel",
          "model_module_version": "1.2.0",
          "state": {
            "_view_name": "LayoutView",
            "grid_template_rows": null,
            "right": null,
            "justify_content": null,
            "_view_module": "@jupyter-widgets/base",
            "overflow": null,
            "_model_module_version": "1.2.0",
            "_view_count": null,
            "flex_flow": null,
            "width": null,
            "min_width": null,
            "border": null,
            "align_items": null,
            "bottom": null,
            "_model_module": "@jupyter-widgets/base",
            "top": null,
            "grid_column": null,
            "overflow_y": null,
            "overflow_x": null,
            "grid_auto_flow": null,
            "grid_area": null,
            "grid_template_columns": null,
            "flex": null,
            "_model_name": "LayoutModel",
            "justify_items": null,
            "grid_row": null,
            "max_height": null,
            "align_content": null,
            "visibility": null,
            "align_self": null,
            "height": null,
            "min_height": null,
            "padding": null,
            "grid_auto_rows": null,
            "grid_gap": null,
            "max_width": null,
            "order": null,
            "_view_module_version": "1.2.0",
            "grid_template_areas": null,
            "object_position": null,
            "object_fit": null,
            "grid_auto_columns": null,
            "margin": null,
            "display": null,
            "left": null
          }
        },
        "d67778626450440b84a69a8b6ea276cd": {
          "model_module": "@jupyter-widgets/controls",
          "model_name": "DescriptionStyleModel",
          "model_module_version": "1.5.0",
          "state": {
            "_view_name": "StyleView",
            "_model_name": "DescriptionStyleModel",
            "description_width": "",
            "_view_module": "@jupyter-widgets/base",
            "_model_module_version": "1.5.0",
            "_view_count": null,
            "_view_module_version": "1.2.0",
            "_model_module": "@jupyter-widgets/controls"
          }
        },
        "8effc7731ad748d9958588201534cb5b": {
          "model_module": "@jupyter-widgets/base",
          "model_name": "LayoutModel",
          "model_module_version": "1.2.0",
          "state": {
            "_view_name": "LayoutView",
            "grid_template_rows": null,
            "right": null,
            "justify_content": null,
            "_view_module": "@jupyter-widgets/base",
            "overflow": null,
            "_model_module_version": "1.2.0",
            "_view_count": null,
            "flex_flow": null,
            "width": null,
            "min_width": null,
            "border": null,
            "align_items": null,
            "bottom": null,
            "_model_module": "@jupyter-widgets/base",
            "top": null,
            "grid_column": null,
            "overflow_y": null,
            "overflow_x": null,
            "grid_auto_flow": null,
            "grid_area": null,
            "grid_template_columns": null,
            "flex": null,
            "_model_name": "LayoutModel",
            "justify_items": null,
            "grid_row": null,
            "max_height": null,
            "align_content": null,
            "visibility": null,
            "align_self": null,
            "height": null,
            "min_height": null,
            "padding": null,
            "grid_auto_rows": null,
            "grid_gap": null,
            "max_width": null,
            "order": null,
            "_view_module_version": "1.2.0",
            "grid_template_areas": null,
            "object_position": null,
            "object_fit": null,
            "grid_auto_columns": null,
            "margin": null,
            "display": null,
            "left": null
          }
        },
        "a83b0f329739416c873b2e2214007cbd": {
          "model_module": "@jupyter-widgets/controls",
          "model_name": "HBoxModel",
          "model_module_version": "1.5.0",
          "state": {
            "_view_name": "HBoxView",
            "_dom_classes": [],
            "_model_name": "HBoxModel",
            "_view_module": "@jupyter-widgets/controls",
            "_model_module_version": "1.5.0",
            "_view_count": null,
            "_view_module_version": "1.5.0",
            "box_style": "",
            "layout": "IPY_MODEL_b552fe5deabb4fb4bd5c655d671a7b6e",
            "_model_module": "@jupyter-widgets/controls",
            "children": [
              "IPY_MODEL_7907a2abf89d4dafbc8c5b6cc79fef66",
              "IPY_MODEL_9f0c9ea5527f43a088e7463d74aff931",
              "IPY_MODEL_6934acacf7e54baba0884ef571a80bc1"
            ]
          }
        },
        "b552fe5deabb4fb4bd5c655d671a7b6e": {
          "model_module": "@jupyter-widgets/base",
          "model_name": "LayoutModel",
          "model_module_version": "1.2.0",
          "state": {
            "_view_name": "LayoutView",
            "grid_template_rows": null,
            "right": null,
            "justify_content": null,
            "_view_module": "@jupyter-widgets/base",
            "overflow": null,
            "_model_module_version": "1.2.0",
            "_view_count": null,
            "flex_flow": null,
            "width": null,
            "min_width": null,
            "border": null,
            "align_items": null,
            "bottom": null,
            "_model_module": "@jupyter-widgets/base",
            "top": null,
            "grid_column": null,
            "overflow_y": null,
            "overflow_x": null,
            "grid_auto_flow": null,
            "grid_area": null,
            "grid_template_columns": null,
            "flex": null,
            "_model_name": "LayoutModel",
            "justify_items": null,
            "grid_row": null,
            "max_height": null,
            "align_content": null,
            "visibility": null,
            "align_self": null,
            "height": null,
            "min_height": null,
            "padding": null,
            "grid_auto_rows": null,
            "grid_gap": null,
            "max_width": null,
            "order": null,
            "_view_module_version": "1.2.0",
            "grid_template_areas": null,
            "object_position": null,
            "object_fit": null,
            "grid_auto_columns": null,
            "margin": null,
            "display": null,
            "left": null
          }
        },
        "7907a2abf89d4dafbc8c5b6cc79fef66": {
          "model_module": "@jupyter-widgets/controls",
          "model_name": "HTMLModel",
          "model_module_version": "1.5.0",
          "state": {
            "_view_name": "HTMLView",
            "style": "IPY_MODEL_18d67688b0424213aacb3bb5e9b22b0c",
            "_dom_classes": [],
            "description": "",
            "_model_name": "HTMLModel",
            "placeholder": "​",
            "_view_module": "@jupyter-widgets/controls",
            "_model_module_version": "1.5.0",
            "value": "Downloading: 100%",
            "_view_count": null,
            "_view_module_version": "1.5.0",
            "description_tooltip": null,
            "_model_module": "@jupyter-widgets/controls",
            "layout": "IPY_MODEL_dea42bc5da82403c88592094a783799f"
          }
        },
        "9f0c9ea5527f43a088e7463d74aff931": {
          "model_module": "@jupyter-widgets/controls",
          "model_name": "FloatProgressModel",
          "model_module_version": "1.5.0",
          "state": {
            "_view_name": "ProgressView",
            "style": "IPY_MODEL_004b22566e934ea7b937c2bc5a3b8c6b",
            "_dom_classes": [],
            "description": "",
            "_model_name": "FloatProgressModel",
            "bar_style": "success",
            "max": 28,
            "_view_module": "@jupyter-widgets/controls",
            "_model_module_version": "1.5.0",
            "value": 28,
            "_view_count": null,
            "_view_module_version": "1.5.0",
            "orientation": "horizontal",
            "min": 0,
            "description_tooltip": null,
            "_model_module": "@jupyter-widgets/controls",
            "layout": "IPY_MODEL_f8184457433d49119ad31384c346a4f3"
          }
        },
        "6934acacf7e54baba0884ef571a80bc1": {
          "model_module": "@jupyter-widgets/controls",
          "model_name": "HTMLModel",
          "model_module_version": "1.5.0",
          "state": {
            "_view_name": "HTMLView",
            "style": "IPY_MODEL_c69e858de2094f05971e9b6582c8d2db",
            "_dom_classes": [],
            "description": "",
            "_model_name": "HTMLModel",
            "placeholder": "​",
            "_view_module": "@jupyter-widgets/controls",
            "_model_module_version": "1.5.0",
            "value": " 28.0/28.0 [00:00&lt;00:00, 827B/s]",
            "_view_count": null,
            "_view_module_version": "1.5.0",
            "description_tooltip": null,
            "_model_module": "@jupyter-widgets/controls",
            "layout": "IPY_MODEL_370b0e9e81304432aeba5a3ad1ca0fcc"
          }
        },
        "18d67688b0424213aacb3bb5e9b22b0c": {
          "model_module": "@jupyter-widgets/controls",
          "model_name": "DescriptionStyleModel",
          "model_module_version": "1.5.0",
          "state": {
            "_view_name": "StyleView",
            "_model_name": "DescriptionStyleModel",
            "description_width": "",
            "_view_module": "@jupyter-widgets/base",
            "_model_module_version": "1.5.0",
            "_view_count": null,
            "_view_module_version": "1.2.0",
            "_model_module": "@jupyter-widgets/controls"
          }
        },
        "dea42bc5da82403c88592094a783799f": {
          "model_module": "@jupyter-widgets/base",
          "model_name": "LayoutModel",
          "model_module_version": "1.2.0",
          "state": {
            "_view_name": "LayoutView",
            "grid_template_rows": null,
            "right": null,
            "justify_content": null,
            "_view_module": "@jupyter-widgets/base",
            "overflow": null,
            "_model_module_version": "1.2.0",
            "_view_count": null,
            "flex_flow": null,
            "width": null,
            "min_width": null,
            "border": null,
            "align_items": null,
            "bottom": null,
            "_model_module": "@jupyter-widgets/base",
            "top": null,
            "grid_column": null,
            "overflow_y": null,
            "overflow_x": null,
            "grid_auto_flow": null,
            "grid_area": null,
            "grid_template_columns": null,
            "flex": null,
            "_model_name": "LayoutModel",
            "justify_items": null,
            "grid_row": null,
            "max_height": null,
            "align_content": null,
            "visibility": null,
            "align_self": null,
            "height": null,
            "min_height": null,
            "padding": null,
            "grid_auto_rows": null,
            "grid_gap": null,
            "max_width": null,
            "order": null,
            "_view_module_version": "1.2.0",
            "grid_template_areas": null,
            "object_position": null,
            "object_fit": null,
            "grid_auto_columns": null,
            "margin": null,
            "display": null,
            "left": null
          }
        },
        "004b22566e934ea7b937c2bc5a3b8c6b": {
          "model_module": "@jupyter-widgets/controls",
          "model_name": "ProgressStyleModel",
          "model_module_version": "1.5.0",
          "state": {
            "_view_name": "StyleView",
            "_model_name": "ProgressStyleModel",
            "description_width": "",
            "_view_module": "@jupyter-widgets/base",
            "_model_module_version": "1.5.0",
            "_view_count": null,
            "_view_module_version": "1.2.0",
            "bar_color": null,
            "_model_module": "@jupyter-widgets/controls"
          }
        },
        "f8184457433d49119ad31384c346a4f3": {
          "model_module": "@jupyter-widgets/base",
          "model_name": "LayoutModel",
          "model_module_version": "1.2.0",
          "state": {
            "_view_name": "LayoutView",
            "grid_template_rows": null,
            "right": null,
            "justify_content": null,
            "_view_module": "@jupyter-widgets/base",
            "overflow": null,
            "_model_module_version": "1.2.0",
            "_view_count": null,
            "flex_flow": null,
            "width": null,
            "min_width": null,
            "border": null,
            "align_items": null,
            "bottom": null,
            "_model_module": "@jupyter-widgets/base",
            "top": null,
            "grid_column": null,
            "overflow_y": null,
            "overflow_x": null,
            "grid_auto_flow": null,
            "grid_area": null,
            "grid_template_columns": null,
            "flex": null,
            "_model_name": "LayoutModel",
            "justify_items": null,
            "grid_row": null,
            "max_height": null,
            "align_content": null,
            "visibility": null,
            "align_self": null,
            "height": null,
            "min_height": null,
            "padding": null,
            "grid_auto_rows": null,
            "grid_gap": null,
            "max_width": null,
            "order": null,
            "_view_module_version": "1.2.0",
            "grid_template_areas": null,
            "object_position": null,
            "object_fit": null,
            "grid_auto_columns": null,
            "margin": null,
            "display": null,
            "left": null
          }
        },
        "c69e858de2094f05971e9b6582c8d2db": {
          "model_module": "@jupyter-widgets/controls",
          "model_name": "DescriptionStyleModel",
          "model_module_version": "1.5.0",
          "state": {
            "_view_name": "StyleView",
            "_model_name": "DescriptionStyleModel",
            "description_width": "",
            "_view_module": "@jupyter-widgets/base",
            "_model_module_version": "1.5.0",
            "_view_count": null,
            "_view_module_version": "1.2.0",
            "_model_module": "@jupyter-widgets/controls"
          }
        },
        "370b0e9e81304432aeba5a3ad1ca0fcc": {
          "model_module": "@jupyter-widgets/base",
          "model_name": "LayoutModel",
          "model_module_version": "1.2.0",
          "state": {
            "_view_name": "LayoutView",
            "grid_template_rows": null,
            "right": null,
            "justify_content": null,
            "_view_module": "@jupyter-widgets/base",
            "overflow": null,
            "_model_module_version": "1.2.0",
            "_view_count": null,
            "flex_flow": null,
            "width": null,
            "min_width": null,
            "border": null,
            "align_items": null,
            "bottom": null,
            "_model_module": "@jupyter-widgets/base",
            "top": null,
            "grid_column": null,
            "overflow_y": null,
            "overflow_x": null,
            "grid_auto_flow": null,
            "grid_area": null,
            "grid_template_columns": null,
            "flex": null,
            "_model_name": "LayoutModel",
            "justify_items": null,
            "grid_row": null,
            "max_height": null,
            "align_content": null,
            "visibility": null,
            "align_self": null,
            "height": null,
            "min_height": null,
            "padding": null,
            "grid_auto_rows": null,
            "grid_gap": null,
            "max_width": null,
            "order": null,
            "_view_module_version": "1.2.0",
            "grid_template_areas": null,
            "object_position": null,
            "object_fit": null,
            "grid_auto_columns": null,
            "margin": null,
            "display": null,
            "left": null
          }
        },
        "3ee9d00585dd44629d20c40e3d4c3138": {
          "model_module": "@jupyter-widgets/controls",
          "model_name": "HBoxModel",
          "model_module_version": "1.5.0",
          "state": {
            "_view_name": "HBoxView",
            "_dom_classes": [],
            "_model_name": "HBoxModel",
            "_view_module": "@jupyter-widgets/controls",
            "_model_module_version": "1.5.0",
            "_view_count": null,
            "_view_module_version": "1.5.0",
            "box_style": "",
            "layout": "IPY_MODEL_15563ea924e846599b739494cd162b4f",
            "_model_module": "@jupyter-widgets/controls",
            "children": [
              "IPY_MODEL_04b6c908664b40698dc6fc9fab5f6bcc",
              "IPY_MODEL_879244df13c043cc8afb961f09e4a2a2",
              "IPY_MODEL_88df188620b44312964ab30f070eb099"
            ]
          }
        },
        "15563ea924e846599b739494cd162b4f": {
          "model_module": "@jupyter-widgets/base",
          "model_name": "LayoutModel",
          "model_module_version": "1.2.0",
          "state": {
            "_view_name": "LayoutView",
            "grid_template_rows": null,
            "right": null,
            "justify_content": null,
            "_view_module": "@jupyter-widgets/base",
            "overflow": null,
            "_model_module_version": "1.2.0",
            "_view_count": null,
            "flex_flow": null,
            "width": null,
            "min_width": null,
            "border": null,
            "align_items": null,
            "bottom": null,
            "_model_module": "@jupyter-widgets/base",
            "top": null,
            "grid_column": null,
            "overflow_y": null,
            "overflow_x": null,
            "grid_auto_flow": null,
            "grid_area": null,
            "grid_template_columns": null,
            "flex": null,
            "_model_name": "LayoutModel",
            "justify_items": null,
            "grid_row": null,
            "max_height": null,
            "align_content": null,
            "visibility": null,
            "align_self": null,
            "height": null,
            "min_height": null,
            "padding": null,
            "grid_auto_rows": null,
            "grid_gap": null,
            "max_width": null,
            "order": null,
            "_view_module_version": "1.2.0",
            "grid_template_areas": null,
            "object_position": null,
            "object_fit": null,
            "grid_auto_columns": null,
            "margin": null,
            "display": null,
            "left": null
          }
        },
        "04b6c908664b40698dc6fc9fab5f6bcc": {
          "model_module": "@jupyter-widgets/controls",
          "model_name": "HTMLModel",
          "model_module_version": "1.5.0",
          "state": {
            "_view_name": "HTMLView",
            "style": "IPY_MODEL_d2250e11daf34773bfc9fef6b40355ae",
            "_dom_classes": [],
            "description": "",
            "_model_name": "HTMLModel",
            "placeholder": "​",
            "_view_module": "@jupyter-widgets/controls",
            "_model_module_version": "1.5.0",
            "value": "Downloading: 100%",
            "_view_count": null,
            "_view_module_version": "1.5.0",
            "description_tooltip": null,
            "_model_module": "@jupyter-widgets/controls",
            "layout": "IPY_MODEL_7bae564ef37946588fda0f8a9fa14ec9"
          }
        },
        "879244df13c043cc8afb961f09e4a2a2": {
          "model_module": "@jupyter-widgets/controls",
          "model_name": "FloatProgressModel",
          "model_module_version": "1.5.0",
          "state": {
            "_view_name": "ProgressView",
            "style": "IPY_MODEL_cb06b2e2626e4e5c8f52d2e3d5af6809",
            "_dom_classes": [],
            "description": "",
            "_model_name": "FloatProgressModel",
            "bar_style": "success",
            "max": 466062,
            "_view_module": "@jupyter-widgets/controls",
            "_model_module_version": "1.5.0",
            "value": 466062,
            "_view_count": null,
            "_view_module_version": "1.5.0",
            "orientation": "horizontal",
            "min": 0,
            "description_tooltip": null,
            "_model_module": "@jupyter-widgets/controls",
            "layout": "IPY_MODEL_6b8d7cac18f343edb4da4fb68832084a"
          }
        },
        "88df188620b44312964ab30f070eb099": {
          "model_module": "@jupyter-widgets/controls",
          "model_name": "HTMLModel",
          "model_module_version": "1.5.0",
          "state": {
            "_view_name": "HTMLView",
            "style": "IPY_MODEL_696ae7f8a35e400f9f6098fdaba066e9",
            "_dom_classes": [],
            "description": "",
            "_model_name": "HTMLModel",
            "placeholder": "​",
            "_view_module": "@jupyter-widgets/controls",
            "_model_module_version": "1.5.0",
            "value": " 455k/455k [00:00&lt;00:00, 799kB/s]",
            "_view_count": null,
            "_view_module_version": "1.5.0",
            "description_tooltip": null,
            "_model_module": "@jupyter-widgets/controls",
            "layout": "IPY_MODEL_d4c05c9962604a1d903f4cd1477a72f5"
          }
        },
        "d2250e11daf34773bfc9fef6b40355ae": {
          "model_module": "@jupyter-widgets/controls",
          "model_name": "DescriptionStyleModel",
          "model_module_version": "1.5.0",
          "state": {
            "_view_name": "StyleView",
            "_model_name": "DescriptionStyleModel",
            "description_width": "",
            "_view_module": "@jupyter-widgets/base",
            "_model_module_version": "1.5.0",
            "_view_count": null,
            "_view_module_version": "1.2.0",
            "_model_module": "@jupyter-widgets/controls"
          }
        },
        "7bae564ef37946588fda0f8a9fa14ec9": {
          "model_module": "@jupyter-widgets/base",
          "model_name": "LayoutModel",
          "model_module_version": "1.2.0",
          "state": {
            "_view_name": "LayoutView",
            "grid_template_rows": null,
            "right": null,
            "justify_content": null,
            "_view_module": "@jupyter-widgets/base",
            "overflow": null,
            "_model_module_version": "1.2.0",
            "_view_count": null,
            "flex_flow": null,
            "width": null,
            "min_width": null,
            "border": null,
            "align_items": null,
            "bottom": null,
            "_model_module": "@jupyter-widgets/base",
            "top": null,
            "grid_column": null,
            "overflow_y": null,
            "overflow_x": null,
            "grid_auto_flow": null,
            "grid_area": null,
            "grid_template_columns": null,
            "flex": null,
            "_model_name": "LayoutModel",
            "justify_items": null,
            "grid_row": null,
            "max_height": null,
            "align_content": null,
            "visibility": null,
            "align_self": null,
            "height": null,
            "min_height": null,
            "padding": null,
            "grid_auto_rows": null,
            "grid_gap": null,
            "max_width": null,
            "order": null,
            "_view_module_version": "1.2.0",
            "grid_template_areas": null,
            "object_position": null,
            "object_fit": null,
            "grid_auto_columns": null,
            "margin": null,
            "display": null,
            "left": null
          }
        },
        "cb06b2e2626e4e5c8f52d2e3d5af6809": {
          "model_module": "@jupyter-widgets/controls",
          "model_name": "ProgressStyleModel",
          "model_module_version": "1.5.0",
          "state": {
            "_view_name": "StyleView",
            "_model_name": "ProgressStyleModel",
            "description_width": "",
            "_view_module": "@jupyter-widgets/base",
            "_model_module_version": "1.5.0",
            "_view_count": null,
            "_view_module_version": "1.2.0",
            "bar_color": null,
            "_model_module": "@jupyter-widgets/controls"
          }
        },
        "6b8d7cac18f343edb4da4fb68832084a": {
          "model_module": "@jupyter-widgets/base",
          "model_name": "LayoutModel",
          "model_module_version": "1.2.0",
          "state": {
            "_view_name": "LayoutView",
            "grid_template_rows": null,
            "right": null,
            "justify_content": null,
            "_view_module": "@jupyter-widgets/base",
            "overflow": null,
            "_model_module_version": "1.2.0",
            "_view_count": null,
            "flex_flow": null,
            "width": null,
            "min_width": null,
            "border": null,
            "align_items": null,
            "bottom": null,
            "_model_module": "@jupyter-widgets/base",
            "top": null,
            "grid_column": null,
            "overflow_y": null,
            "overflow_x": null,
            "grid_auto_flow": null,
            "grid_area": null,
            "grid_template_columns": null,
            "flex": null,
            "_model_name": "LayoutModel",
            "justify_items": null,
            "grid_row": null,
            "max_height": null,
            "align_content": null,
            "visibility": null,
            "align_self": null,
            "height": null,
            "min_height": null,
            "padding": null,
            "grid_auto_rows": null,
            "grid_gap": null,
            "max_width": null,
            "order": null,
            "_view_module_version": "1.2.0",
            "grid_template_areas": null,
            "object_position": null,
            "object_fit": null,
            "grid_auto_columns": null,
            "margin": null,
            "display": null,
            "left": null
          }
        },
        "696ae7f8a35e400f9f6098fdaba066e9": {
          "model_module": "@jupyter-widgets/controls",
          "model_name": "DescriptionStyleModel",
          "model_module_version": "1.5.0",
          "state": {
            "_view_name": "StyleView",
            "_model_name": "DescriptionStyleModel",
            "description_width": "",
            "_view_module": "@jupyter-widgets/base",
            "_model_module_version": "1.5.0",
            "_view_count": null,
            "_view_module_version": "1.2.0",
            "_model_module": "@jupyter-widgets/controls"
          }
        },
        "d4c05c9962604a1d903f4cd1477a72f5": {
          "model_module": "@jupyter-widgets/base",
          "model_name": "LayoutModel",
          "model_module_version": "1.2.0",
          "state": {
            "_view_name": "LayoutView",
            "grid_template_rows": null,
            "right": null,
            "justify_content": null,
            "_view_module": "@jupyter-widgets/base",
            "overflow": null,
            "_model_module_version": "1.2.0",
            "_view_count": null,
            "flex_flow": null,
            "width": null,
            "min_width": null,
            "border": null,
            "align_items": null,
            "bottom": null,
            "_model_module": "@jupyter-widgets/base",
            "top": null,
            "grid_column": null,
            "overflow_y": null,
            "overflow_x": null,
            "grid_auto_flow": null,
            "grid_area": null,
            "grid_template_columns": null,
            "flex": null,
            "_model_name": "LayoutModel",
            "justify_items": null,
            "grid_row": null,
            "max_height": null,
            "align_content": null,
            "visibility": null,
            "align_self": null,
            "height": null,
            "min_height": null,
            "padding": null,
            "grid_auto_rows": null,
            "grid_gap": null,
            "max_width": null,
            "order": null,
            "_view_module_version": "1.2.0",
            "grid_template_areas": null,
            "object_position": null,
            "object_fit": null,
            "grid_auto_columns": null,
            "margin": null,
            "display": null,
            "left": null
          }
        },
        "e2e351efa76d4ce0a398b65e6094b99a": {
          "model_module": "@jupyter-widgets/controls",
          "model_name": "HBoxModel",
          "model_module_version": "1.5.0",
          "state": {
            "_view_name": "HBoxView",
            "_dom_classes": [],
            "_model_name": "HBoxModel",
            "_view_module": "@jupyter-widgets/controls",
            "_model_module_version": "1.5.0",
            "_view_count": null,
            "_view_module_version": "1.5.0",
            "box_style": "",
            "layout": "IPY_MODEL_2cef23a7e9b847ce90e02a205cbc7591",
            "_model_module": "@jupyter-widgets/controls",
            "children": [
              "IPY_MODEL_0e38a2cc9e2a4517a9ab22a829d9e580",
              "IPY_MODEL_33e6efa9a64a43a09a9eff8e352fbac5",
              "IPY_MODEL_68d46a46895948e694d4f02361c59d24"
            ]
          }
        },
        "2cef23a7e9b847ce90e02a205cbc7591": {
          "model_module": "@jupyter-widgets/base",
          "model_name": "LayoutModel",
          "model_module_version": "1.2.0",
          "state": {
            "_view_name": "LayoutView",
            "grid_template_rows": null,
            "right": null,
            "justify_content": null,
            "_view_module": "@jupyter-widgets/base",
            "overflow": null,
            "_model_module_version": "1.2.0",
            "_view_count": null,
            "flex_flow": null,
            "width": null,
            "min_width": null,
            "border": null,
            "align_items": null,
            "bottom": null,
            "_model_module": "@jupyter-widgets/base",
            "top": null,
            "grid_column": null,
            "overflow_y": null,
            "overflow_x": null,
            "grid_auto_flow": null,
            "grid_area": null,
            "grid_template_columns": null,
            "flex": null,
            "_model_name": "LayoutModel",
            "justify_items": null,
            "grid_row": null,
            "max_height": null,
            "align_content": null,
            "visibility": null,
            "align_self": null,
            "height": null,
            "min_height": null,
            "padding": null,
            "grid_auto_rows": null,
            "grid_gap": null,
            "max_width": null,
            "order": null,
            "_view_module_version": "1.2.0",
            "grid_template_areas": null,
            "object_position": null,
            "object_fit": null,
            "grid_auto_columns": null,
            "margin": null,
            "display": null,
            "left": null
          }
        },
        "0e38a2cc9e2a4517a9ab22a829d9e580": {
          "model_module": "@jupyter-widgets/controls",
          "model_name": "HTMLModel",
          "model_module_version": "1.5.0",
          "state": {
            "_view_name": "HTMLView",
            "style": "IPY_MODEL_799547a6b09c40728690dc593be2d490",
            "_dom_classes": [],
            "description": "",
            "_model_name": "HTMLModel",
            "placeholder": "​",
            "_view_module": "@jupyter-widgets/controls",
            "_model_module_version": "1.5.0",
            "value": "Downloading: 100%",
            "_view_count": null,
            "_view_module_version": "1.5.0",
            "description_tooltip": null,
            "_model_module": "@jupyter-widgets/controls",
            "layout": "IPY_MODEL_33bc1218346641c0a2bd7801771acba7"
          }
        },
        "33e6efa9a64a43a09a9eff8e352fbac5": {
          "model_module": "@jupyter-widgets/controls",
          "model_name": "FloatProgressModel",
          "model_module_version": "1.5.0",
          "state": {
            "_view_name": "ProgressView",
            "style": "IPY_MODEL_10cdea22f1a8467e89f34a376479bc46",
            "_dom_classes": [],
            "description": "",
            "_model_name": "FloatProgressModel",
            "bar_style": "success",
            "max": 571,
            "_view_module": "@jupyter-widgets/controls",
            "_model_module_version": "1.5.0",
            "value": 571,
            "_view_count": null,
            "_view_module_version": "1.5.0",
            "orientation": "horizontal",
            "min": 0,
            "description_tooltip": null,
            "_model_module": "@jupyter-widgets/controls",
            "layout": "IPY_MODEL_5d5e165548dc488090bf287c0d799d6c"
          }
        },
        "68d46a46895948e694d4f02361c59d24": {
          "model_module": "@jupyter-widgets/controls",
          "model_name": "HTMLModel",
          "model_module_version": "1.5.0",
          "state": {
            "_view_name": "HTMLView",
            "style": "IPY_MODEL_1f29ccc5593a49ca983f52e81ece3c87",
            "_dom_classes": [],
            "description": "",
            "_model_name": "HTMLModel",
            "placeholder": "​",
            "_view_module": "@jupyter-widgets/controls",
            "_model_module_version": "1.5.0",
            "value": " 571/571 [00:00&lt;00:00, 17.5kB/s]",
            "_view_count": null,
            "_view_module_version": "1.5.0",
            "description_tooltip": null,
            "_model_module": "@jupyter-widgets/controls",
            "layout": "IPY_MODEL_606cebb75e00491592c6cfe23780ca7e"
          }
        },
        "799547a6b09c40728690dc593be2d490": {
          "model_module": "@jupyter-widgets/controls",
          "model_name": "DescriptionStyleModel",
          "model_module_version": "1.5.0",
          "state": {
            "_view_name": "StyleView",
            "_model_name": "DescriptionStyleModel",
            "description_width": "",
            "_view_module": "@jupyter-widgets/base",
            "_model_module_version": "1.5.0",
            "_view_count": null,
            "_view_module_version": "1.2.0",
            "_model_module": "@jupyter-widgets/controls"
          }
        },
        "33bc1218346641c0a2bd7801771acba7": {
          "model_module": "@jupyter-widgets/base",
          "model_name": "LayoutModel",
          "model_module_version": "1.2.0",
          "state": {
            "_view_name": "LayoutView",
            "grid_template_rows": null,
            "right": null,
            "justify_content": null,
            "_view_module": "@jupyter-widgets/base",
            "overflow": null,
            "_model_module_version": "1.2.0",
            "_view_count": null,
            "flex_flow": null,
            "width": null,
            "min_width": null,
            "border": null,
            "align_items": null,
            "bottom": null,
            "_model_module": "@jupyter-widgets/base",
            "top": null,
            "grid_column": null,
            "overflow_y": null,
            "overflow_x": null,
            "grid_auto_flow": null,
            "grid_area": null,
            "grid_template_columns": null,
            "flex": null,
            "_model_name": "LayoutModel",
            "justify_items": null,
            "grid_row": null,
            "max_height": null,
            "align_content": null,
            "visibility": null,
            "align_self": null,
            "height": null,
            "min_height": null,
            "padding": null,
            "grid_auto_rows": null,
            "grid_gap": null,
            "max_width": null,
            "order": null,
            "_view_module_version": "1.2.0",
            "grid_template_areas": null,
            "object_position": null,
            "object_fit": null,
            "grid_auto_columns": null,
            "margin": null,
            "display": null,
            "left": null
          }
        },
        "10cdea22f1a8467e89f34a376479bc46": {
          "model_module": "@jupyter-widgets/controls",
          "model_name": "ProgressStyleModel",
          "model_module_version": "1.5.0",
          "state": {
            "_view_name": "StyleView",
            "_model_name": "ProgressStyleModel",
            "description_width": "",
            "_view_module": "@jupyter-widgets/base",
            "_model_module_version": "1.5.0",
            "_view_count": null,
            "_view_module_version": "1.2.0",
            "bar_color": null,
            "_model_module": "@jupyter-widgets/controls"
          }
        },
        "5d5e165548dc488090bf287c0d799d6c": {
          "model_module": "@jupyter-widgets/base",
          "model_name": "LayoutModel",
          "model_module_version": "1.2.0",
          "state": {
            "_view_name": "LayoutView",
            "grid_template_rows": null,
            "right": null,
            "justify_content": null,
            "_view_module": "@jupyter-widgets/base",
            "overflow": null,
            "_model_module_version": "1.2.0",
            "_view_count": null,
            "flex_flow": null,
            "width": null,
            "min_width": null,
            "border": null,
            "align_items": null,
            "bottom": null,
            "_model_module": "@jupyter-widgets/base",
            "top": null,
            "grid_column": null,
            "overflow_y": null,
            "overflow_x": null,
            "grid_auto_flow": null,
            "grid_area": null,
            "grid_template_columns": null,
            "flex": null,
            "_model_name": "LayoutModel",
            "justify_items": null,
            "grid_row": null,
            "max_height": null,
            "align_content": null,
            "visibility": null,
            "align_self": null,
            "height": null,
            "min_height": null,
            "padding": null,
            "grid_auto_rows": null,
            "grid_gap": null,
            "max_width": null,
            "order": null,
            "_view_module_version": "1.2.0",
            "grid_template_areas": null,
            "object_position": null,
            "object_fit": null,
            "grid_auto_columns": null,
            "margin": null,
            "display": null,
            "left": null
          }
        },
        "1f29ccc5593a49ca983f52e81ece3c87": {
          "model_module": "@jupyter-widgets/controls",
          "model_name": "DescriptionStyleModel",
          "model_module_version": "1.5.0",
          "state": {
            "_view_name": "StyleView",
            "_model_name": "DescriptionStyleModel",
            "description_width": "",
            "_view_module": "@jupyter-widgets/base",
            "_model_module_version": "1.5.0",
            "_view_count": null,
            "_view_module_version": "1.2.0",
            "_model_module": "@jupyter-widgets/controls"
          }
        },
        "606cebb75e00491592c6cfe23780ca7e": {
          "model_module": "@jupyter-widgets/base",
          "model_name": "LayoutModel",
          "model_module_version": "1.2.0",
          "state": {
            "_view_name": "LayoutView",
            "grid_template_rows": null,
            "right": null,
            "justify_content": null,
            "_view_module": "@jupyter-widgets/base",
            "overflow": null,
            "_model_module_version": "1.2.0",
            "_view_count": null,
            "flex_flow": null,
            "width": null,
            "min_width": null,
            "border": null,
            "align_items": null,
            "bottom": null,
            "_model_module": "@jupyter-widgets/base",
            "top": null,
            "grid_column": null,
            "overflow_y": null,
            "overflow_x": null,
            "grid_auto_flow": null,
            "grid_area": null,
            "grid_template_columns": null,
            "flex": null,
            "_model_name": "LayoutModel",
            "justify_items": null,
            "grid_row": null,
            "max_height": null,
            "align_content": null,
            "visibility": null,
            "align_self": null,
            "height": null,
            "min_height": null,
            "padding": null,
            "grid_auto_rows": null,
            "grid_gap": null,
            "max_width": null,
            "order": null,
            "_view_module_version": "1.2.0",
            "grid_template_areas": null,
            "object_position": null,
            "object_fit": null,
            "grid_auto_columns": null,
            "margin": null,
            "display": null,
            "left": null
          }
        },
        "c891ffa098cf49758cb0136967bf14a3": {
          "model_module": "@jupyter-widgets/controls",
          "model_name": "HBoxModel",
          "model_module_version": "1.5.0",
          "state": {
            "_view_name": "HBoxView",
            "_dom_classes": [],
            "_model_name": "HBoxModel",
            "_view_module": "@jupyter-widgets/controls",
            "_model_module_version": "1.5.0",
            "_view_count": null,
            "_view_module_version": "1.5.0",
            "box_style": "",
            "layout": "IPY_MODEL_d89150012b9849b19a496f47e32d003d",
            "_model_module": "@jupyter-widgets/controls",
            "children": [
              "IPY_MODEL_76bb6d8d59db42adac3b565a0979d0c2",
              "IPY_MODEL_20c01d0dd418400f99d021bf3af9b863",
              "IPY_MODEL_2701fbc4eecc43779a0d9fd5d11fb191"
            ]
          }
        },
        "d89150012b9849b19a496f47e32d003d": {
          "model_module": "@jupyter-widgets/base",
          "model_name": "LayoutModel",
          "model_module_version": "1.2.0",
          "state": {
            "_view_name": "LayoutView",
            "grid_template_rows": null,
            "right": null,
            "justify_content": null,
            "_view_module": "@jupyter-widgets/base",
            "overflow": null,
            "_model_module_version": "1.2.0",
            "_view_count": null,
            "flex_flow": null,
            "width": null,
            "min_width": null,
            "border": null,
            "align_items": null,
            "bottom": null,
            "_model_module": "@jupyter-widgets/base",
            "top": null,
            "grid_column": null,
            "overflow_y": null,
            "overflow_x": null,
            "grid_auto_flow": null,
            "grid_area": null,
            "grid_template_columns": null,
            "flex": null,
            "_model_name": "LayoutModel",
            "justify_items": null,
            "grid_row": null,
            "max_height": null,
            "align_content": null,
            "visibility": null,
            "align_self": null,
            "height": null,
            "min_height": null,
            "padding": null,
            "grid_auto_rows": null,
            "grid_gap": null,
            "max_width": null,
            "order": null,
            "_view_module_version": "1.2.0",
            "grid_template_areas": null,
            "object_position": null,
            "object_fit": null,
            "grid_auto_columns": null,
            "margin": null,
            "display": null,
            "left": null
          }
        },
        "76bb6d8d59db42adac3b565a0979d0c2": {
          "model_module": "@jupyter-widgets/controls",
          "model_name": "HTMLModel",
          "model_module_version": "1.5.0",
          "state": {
            "_view_name": "HTMLView",
            "style": "IPY_MODEL_f270b2d8f357489e9251f09fc19b2236",
            "_dom_classes": [],
            "description": "",
            "_model_name": "HTMLModel",
            "placeholder": "​",
            "_view_module": "@jupyter-widgets/controls",
            "_model_module_version": "1.5.0",
            "value": "Downloading: 100%",
            "_view_count": null,
            "_view_module_version": "1.5.0",
            "description_tooltip": null,
            "_model_module": "@jupyter-widgets/controls",
            "layout": "IPY_MODEL_58c24ad53aab4b498654ed0eba82c2a7"
          }
        },
        "20c01d0dd418400f99d021bf3af9b863": {
          "model_module": "@jupyter-widgets/controls",
          "model_name": "FloatProgressModel",
          "model_module_version": "1.5.0",
          "state": {
            "_view_name": "ProgressView",
            "style": "IPY_MODEL_fe7146ff26dd4e19be6fcb6bd9cf9419",
            "_dom_classes": [],
            "description": "",
            "_model_name": "FloatProgressModel",
            "bar_style": "success",
            "max": 1472569832,
            "_view_module": "@jupyter-widgets/controls",
            "_model_module_version": "1.5.0",
            "value": 1472569832,
            "_view_count": null,
            "_view_module_version": "1.5.0",
            "orientation": "horizontal",
            "min": 0,
            "description_tooltip": null,
            "_model_module": "@jupyter-widgets/controls",
            "layout": "IPY_MODEL_5058847cbc7e40cf888b997d670d0b20"
          }
        },
        "2701fbc4eecc43779a0d9fd5d11fb191": {
          "model_module": "@jupyter-widgets/controls",
          "model_name": "HTMLModel",
          "model_module_version": "1.5.0",
          "state": {
            "_view_name": "HTMLView",
            "style": "IPY_MODEL_132233698fc54064b2a7ad60b6ff3e98",
            "_dom_classes": [],
            "description": "",
            "_model_name": "HTMLModel",
            "placeholder": "​",
            "_view_module": "@jupyter-widgets/controls",
            "_model_module_version": "1.5.0",
            "value": " 1.37G/1.37G [00:49&lt;00:00, 27.6MB/s]",
            "_view_count": null,
            "_view_module_version": "1.5.0",
            "description_tooltip": null,
            "_model_module": "@jupyter-widgets/controls",
            "layout": "IPY_MODEL_145aaab2b12d4115bc6977b732156209"
          }
        },
        "f270b2d8f357489e9251f09fc19b2236": {
          "model_module": "@jupyter-widgets/controls",
          "model_name": "DescriptionStyleModel",
          "model_module_version": "1.5.0",
          "state": {
            "_view_name": "StyleView",
            "_model_name": "DescriptionStyleModel",
            "description_width": "",
            "_view_module": "@jupyter-widgets/base",
            "_model_module_version": "1.5.0",
            "_view_count": null,
            "_view_module_version": "1.2.0",
            "_model_module": "@jupyter-widgets/controls"
          }
        },
        "58c24ad53aab4b498654ed0eba82c2a7": {
          "model_module": "@jupyter-widgets/base",
          "model_name": "LayoutModel",
          "model_module_version": "1.2.0",
          "state": {
            "_view_name": "LayoutView",
            "grid_template_rows": null,
            "right": null,
            "justify_content": null,
            "_view_module": "@jupyter-widgets/base",
            "overflow": null,
            "_model_module_version": "1.2.0",
            "_view_count": null,
            "flex_flow": null,
            "width": null,
            "min_width": null,
            "border": null,
            "align_items": null,
            "bottom": null,
            "_model_module": "@jupyter-widgets/base",
            "top": null,
            "grid_column": null,
            "overflow_y": null,
            "overflow_x": null,
            "grid_auto_flow": null,
            "grid_area": null,
            "grid_template_columns": null,
            "flex": null,
            "_model_name": "LayoutModel",
            "justify_items": null,
            "grid_row": null,
            "max_height": null,
            "align_content": null,
            "visibility": null,
            "align_self": null,
            "height": null,
            "min_height": null,
            "padding": null,
            "grid_auto_rows": null,
            "grid_gap": null,
            "max_width": null,
            "order": null,
            "_view_module_version": "1.2.0",
            "grid_template_areas": null,
            "object_position": null,
            "object_fit": null,
            "grid_auto_columns": null,
            "margin": null,
            "display": null,
            "left": null
          }
        },
        "fe7146ff26dd4e19be6fcb6bd9cf9419": {
          "model_module": "@jupyter-widgets/controls",
          "model_name": "ProgressStyleModel",
          "model_module_version": "1.5.0",
          "state": {
            "_view_name": "StyleView",
            "_model_name": "ProgressStyleModel",
            "description_width": "",
            "_view_module": "@jupyter-widgets/base",
            "_model_module_version": "1.5.0",
            "_view_count": null,
            "_view_module_version": "1.2.0",
            "bar_color": null,
            "_model_module": "@jupyter-widgets/controls"
          }
        },
        "5058847cbc7e40cf888b997d670d0b20": {
          "model_module": "@jupyter-widgets/base",
          "model_name": "LayoutModel",
          "model_module_version": "1.2.0",
          "state": {
            "_view_name": "LayoutView",
            "grid_template_rows": null,
            "right": null,
            "justify_content": null,
            "_view_module": "@jupyter-widgets/base",
            "overflow": null,
            "_model_module_version": "1.2.0",
            "_view_count": null,
            "flex_flow": null,
            "width": null,
            "min_width": null,
            "border": null,
            "align_items": null,
            "bottom": null,
            "_model_module": "@jupyter-widgets/base",
            "top": null,
            "grid_column": null,
            "overflow_y": null,
            "overflow_x": null,
            "grid_auto_flow": null,
            "grid_area": null,
            "grid_template_columns": null,
            "flex": null,
            "_model_name": "LayoutModel",
            "justify_items": null,
            "grid_row": null,
            "max_height": null,
            "align_content": null,
            "visibility": null,
            "align_self": null,
            "height": null,
            "min_height": null,
            "padding": null,
            "grid_auto_rows": null,
            "grid_gap": null,
            "max_width": null,
            "order": null,
            "_view_module_version": "1.2.0",
            "grid_template_areas": null,
            "object_position": null,
            "object_fit": null,
            "grid_auto_columns": null,
            "margin": null,
            "display": null,
            "left": null
          }
        },
        "132233698fc54064b2a7ad60b6ff3e98": {
          "model_module": "@jupyter-widgets/controls",
          "model_name": "DescriptionStyleModel",
          "model_module_version": "1.5.0",
          "state": {
            "_view_name": "StyleView",
            "_model_name": "DescriptionStyleModel",
            "description_width": "",
            "_view_module": "@jupyter-widgets/base",
            "_model_module_version": "1.5.0",
            "_view_count": null,
            "_view_module_version": "1.2.0",
            "_model_module": "@jupyter-widgets/controls"
          }
        },
        "145aaab2b12d4115bc6977b732156209": {
          "model_module": "@jupyter-widgets/base",
          "model_name": "LayoutModel",
          "model_module_version": "1.2.0",
          "state": {
            "_view_name": "LayoutView",
            "grid_template_rows": null,
            "right": null,
            "justify_content": null,
            "_view_module": "@jupyter-widgets/base",
            "overflow": null,
            "_model_module_version": "1.2.0",
            "_view_count": null,
            "flex_flow": null,
            "width": null,
            "min_width": null,
            "border": null,
            "align_items": null,
            "bottom": null,
            "_model_module": "@jupyter-widgets/base",
            "top": null,
            "grid_column": null,
            "overflow_y": null,
            "overflow_x": null,
            "grid_auto_flow": null,
            "grid_area": null,
            "grid_template_columns": null,
            "flex": null,
            "_model_name": "LayoutModel",
            "justify_items": null,
            "grid_row": null,
            "max_height": null,
            "align_content": null,
            "visibility": null,
            "align_self": null,
            "height": null,
            "min_height": null,
            "padding": null,
            "grid_auto_rows": null,
            "grid_gap": null,
            "max_width": null,
            "order": null,
            "_view_module_version": "1.2.0",
            "grid_template_areas": null,
            "object_position": null,
            "object_fit": null,
            "grid_auto_columns": null,
            "margin": null,
            "display": null,
            "left": null
          }
        }
      }
    }
  },
  "cells": [
    {
      "cell_type": "markdown",
      "metadata": {
        "id": "view-in-github",
        "colab_type": "text"
      },
      "source": [
        "<a href=\"https://colab.research.google.com/github/ahassanzadeh/SMS_CLASSIFICATION_LSTM_BERT/blob/main/SMS_Classification.ipynb\" target=\"_parent\"><img src=\"https://colab.research.google.com/assets/colab-badge.svg\" alt=\"Open In Colab\"/></a>"
      ]
    },
    {
      "cell_type": "code",
      "metadata": {
        "colab": {
          "base_uri": "https://localhost:8080/"
        },
        "id": "1OlL4Mhm880N",
        "outputId": "862dd4c6-2b6f-403f-f8a7-be4f48f9a8d8"
      },
      "source": [
        "# change directory \n",
        "%cd /content/drive/MyDrive/Job_Interview/Companies/Amida/NLP_Data_Assessment"
      ],
      "execution_count": null,
      "outputs": [
        {
          "output_type": "stream",
          "name": "stdout",
          "text": [
            "/content/drive/MyDrive/Job_Interview/Companies/Amida/NLP_Data_Assessment\n"
          ]
        }
      ]
    },
    {
      "cell_type": "code",
      "metadata": {
        "colab": {
          "base_uri": "https://localhost:8080/"
        },
        "id": "5A_NbY1u8639",
        "outputId": "d1298252-89e5-43c4-fa31-0b5d3bd8e4f8"
      },
      "source": [
        "# list of files in the directory \n",
        "%ls"
      ],
      "execution_count": null,
      "outputs": [
        {
          "output_type": "stream",
          "name": "stdout",
          "text": [
            " Email_Classification.ipynb  'NLP Technical Assessment.docx'\n",
            " global_vector.txt            SMSSpamCollection.txt\n"
          ]
        }
      ]
    },
    {
      "cell_type": "code",
      "metadata": {
        "id": "VjYO5d2ZePag"
      },
      "source": [
        "# general data science packages \n",
        "import pandas as pd \n",
        "import numpy as np \n",
        "import matplotlib.pyplot as plt\n",
        "%matplotlib inline\n",
        "import seaborn as sns\n",
        "\n",
        "# for text editing \n",
        "import re\n",
        "import string\n",
        "\n",
        "# sklearn package \n",
        "from sklearn.model_selection import train_test_split\n",
        "from sklearn.preprocessing import LabelEncoder\n",
        "\n"
      ],
      "execution_count": null,
      "outputs": []
    },
    {
      "cell_type": "code",
      "metadata": {
        "id": "sSoIhVdIHoG2"
      },
      "source": [
        "# install packages \n",
        "# Natural Language Toolkit\n",
        "!pip install --user -U -q  nltk\n",
        "# transofer package from hugging face library \n",
        "!pip install -q transformers "
      ],
      "execution_count": null,
      "outputs": []
    },
    {
      "cell_type": "code",
      "metadata": {
        "id": "xn0xxNQ1eXwt",
        "colab": {
          "base_uri": "https://localhost:8080/",
          "height": 202
        },
        "outputId": "6130e315-6518-4b2a-f64e-80a998316774"
      },
      "source": [
        "# import txt file as dataframe \n",
        "data = pd.read_csv('SMSSpamCollection.txt', sep=\"\\t\", header = None, encoding= 'latin-1') \n",
        "\n",
        "# naming the columns \n",
        "data.columns= [\"Label\", \"Email\"]\n",
        "\n",
        "data.head()"
      ],
      "execution_count": null,
      "outputs": [
        {
          "output_type": "execute_result",
          "data": {
            "text/html": [
              "<div>\n",
              "<style scoped>\n",
              "    .dataframe tbody tr th:only-of-type {\n",
              "        vertical-align: middle;\n",
              "    }\n",
              "\n",
              "    .dataframe tbody tr th {\n",
              "        vertical-align: top;\n",
              "    }\n",
              "\n",
              "    .dataframe thead th {\n",
              "        text-align: right;\n",
              "    }\n",
              "</style>\n",
              "<table border=\"1\" class=\"dataframe\">\n",
              "  <thead>\n",
              "    <tr style=\"text-align: right;\">\n",
              "      <th></th>\n",
              "      <th>Label</th>\n",
              "      <th>Email</th>\n",
              "    </tr>\n",
              "  </thead>\n",
              "  <tbody>\n",
              "    <tr>\n",
              "      <th>0</th>\n",
              "      <td>ham</td>\n",
              "      <td>Go until jurong point, crazy.. Available only ...</td>\n",
              "    </tr>\n",
              "    <tr>\n",
              "      <th>1</th>\n",
              "      <td>ham</td>\n",
              "      <td>Ok lar... Joking wif u oni...</td>\n",
              "    </tr>\n",
              "    <tr>\n",
              "      <th>2</th>\n",
              "      <td>spam</td>\n",
              "      <td>Free entry in 2 a wkly comp to win FA Cup fina...</td>\n",
              "    </tr>\n",
              "    <tr>\n",
              "      <th>3</th>\n",
              "      <td>ham</td>\n",
              "      <td>U dun say so early hor... U c already then say...</td>\n",
              "    </tr>\n",
              "    <tr>\n",
              "      <th>4</th>\n",
              "      <td>ham</td>\n",
              "      <td>Nah I don't think he goes to usf, he lives aro...</td>\n",
              "    </tr>\n",
              "  </tbody>\n",
              "</table>\n",
              "</div>"
            ],
            "text/plain": [
              "  Label                                              Email\n",
              "0   ham  Go until jurong point, crazy.. Available only ...\n",
              "1   ham                      Ok lar... Joking wif u oni...\n",
              "2  spam  Free entry in 2 a wkly comp to win FA Cup fina...\n",
              "3   ham  U dun say so early hor... U c already then say...\n",
              "4   ham  Nah I don't think he goes to usf, he lives aro..."
            ]
          },
          "metadata": {},
          "execution_count": 5
        }
      ]
    },
    {
      "cell_type": "code",
      "metadata": {
        "colab": {
          "base_uri": "https://localhost:8080/",
          "height": 202
        },
        "id": "016j5WKu7jim",
        "outputId": "2e77a90a-6594-46a9-b805-a0acabd6e16a"
      },
      "source": [
        "# Label Encoding of the label column \n",
        "\n",
        "le = LabelEncoder()\n",
        "le.fit(data['Label'])\n",
        "\n",
        "data['Label'] = le.transform(data['Label'])\n",
        "data.head()"
      ],
      "execution_count": null,
      "outputs": [
        {
          "output_type": "execute_result",
          "data": {
            "text/html": [
              "<div>\n",
              "<style scoped>\n",
              "    .dataframe tbody tr th:only-of-type {\n",
              "        vertical-align: middle;\n",
              "    }\n",
              "\n",
              "    .dataframe tbody tr th {\n",
              "        vertical-align: top;\n",
              "    }\n",
              "\n",
              "    .dataframe thead th {\n",
              "        text-align: right;\n",
              "    }\n",
              "</style>\n",
              "<table border=\"1\" class=\"dataframe\">\n",
              "  <thead>\n",
              "    <tr style=\"text-align: right;\">\n",
              "      <th></th>\n",
              "      <th>Label</th>\n",
              "      <th>Email</th>\n",
              "    </tr>\n",
              "  </thead>\n",
              "  <tbody>\n",
              "    <tr>\n",
              "      <th>0</th>\n",
              "      <td>0</td>\n",
              "      <td>Go until jurong point, crazy.. Available only ...</td>\n",
              "    </tr>\n",
              "    <tr>\n",
              "      <th>1</th>\n",
              "      <td>0</td>\n",
              "      <td>Ok lar... Joking wif u oni...</td>\n",
              "    </tr>\n",
              "    <tr>\n",
              "      <th>2</th>\n",
              "      <td>1</td>\n",
              "      <td>Free entry in 2 a wkly comp to win FA Cup fina...</td>\n",
              "    </tr>\n",
              "    <tr>\n",
              "      <th>3</th>\n",
              "      <td>0</td>\n",
              "      <td>U dun say so early hor... U c already then say...</td>\n",
              "    </tr>\n",
              "    <tr>\n",
              "      <th>4</th>\n",
              "      <td>0</td>\n",
              "      <td>Nah I don't think he goes to usf, he lives aro...</td>\n",
              "    </tr>\n",
              "  </tbody>\n",
              "</table>\n",
              "</div>"
            ],
            "text/plain": [
              "   Label                                              Email\n",
              "0      0  Go until jurong point, crazy.. Available only ...\n",
              "1      0                      Ok lar... Joking wif u oni...\n",
              "2      1  Free entry in 2 a wkly comp to win FA Cup fina...\n",
              "3      0  U dun say so early hor... U c already then say...\n",
              "4      0  Nah I don't think he goes to usf, he lives aro..."
            ]
          },
          "metadata": {},
          "execution_count": 6
        }
      ]
    },
    {
      "cell_type": "code",
      "metadata": {
        "colab": {
          "base_uri": "https://localhost:8080/",
          "height": 202
        },
        "id": "0hm3si4UeufK",
        "outputId": "d108225e-6975-4faf-91d7-0dff39cca00d"
      },
      "source": [
        "data.head()"
      ],
      "execution_count": null,
      "outputs": [
        {
          "output_type": "execute_result",
          "data": {
            "text/html": [
              "<div>\n",
              "<style scoped>\n",
              "    .dataframe tbody tr th:only-of-type {\n",
              "        vertical-align: middle;\n",
              "    }\n",
              "\n",
              "    .dataframe tbody tr th {\n",
              "        vertical-align: top;\n",
              "    }\n",
              "\n",
              "    .dataframe thead th {\n",
              "        text-align: right;\n",
              "    }\n",
              "</style>\n",
              "<table border=\"1\" class=\"dataframe\">\n",
              "  <thead>\n",
              "    <tr style=\"text-align: right;\">\n",
              "      <th></th>\n",
              "      <th>Label</th>\n",
              "      <th>Email</th>\n",
              "    </tr>\n",
              "  </thead>\n",
              "  <tbody>\n",
              "    <tr>\n",
              "      <th>0</th>\n",
              "      <td>0</td>\n",
              "      <td>Go until jurong point, crazy.. Available only ...</td>\n",
              "    </tr>\n",
              "    <tr>\n",
              "      <th>1</th>\n",
              "      <td>0</td>\n",
              "      <td>Ok lar... Joking wif u oni...</td>\n",
              "    </tr>\n",
              "    <tr>\n",
              "      <th>2</th>\n",
              "      <td>1</td>\n",
              "      <td>Free entry in 2 a wkly comp to win FA Cup fina...</td>\n",
              "    </tr>\n",
              "    <tr>\n",
              "      <th>3</th>\n",
              "      <td>0</td>\n",
              "      <td>U dun say so early hor... U c already then say...</td>\n",
              "    </tr>\n",
              "    <tr>\n",
              "      <th>4</th>\n",
              "      <td>0</td>\n",
              "      <td>Nah I don't think he goes to usf, he lives aro...</td>\n",
              "    </tr>\n",
              "  </tbody>\n",
              "</table>\n",
              "</div>"
            ],
            "text/plain": [
              "   Label                                              Email\n",
              "0      0  Go until jurong point, crazy.. Available only ...\n",
              "1      0                      Ok lar... Joking wif u oni...\n",
              "2      1  Free entry in 2 a wkly comp to win FA Cup fina...\n",
              "3      0  U dun say so early hor... U c already then say...\n",
              "4      0  Nah I don't think he goes to usf, he lives aro..."
            ]
          },
          "metadata": {},
          "execution_count": 7
        }
      ]
    },
    {
      "cell_type": "markdown",
      "metadata": {
        "id": "Bqvz_tNRg2nB"
      },
      "source": [
        "Text Analysis is a major application field for machine learning algorithms. However the raw data, a sequence of symbols cannot be fed directly to the algorithms themselves as most of them expect numerical feature vectors with a fixed size rather than the raw text documents with variable length.\n",
        "\n"
      ]
    },
    {
      "cell_type": "code",
      "metadata": {
        "colab": {
          "base_uri": "https://localhost:8080/"
        },
        "id": "InYDJF6tfLWT",
        "outputId": "c0f9a7ac-cffd-4aa3-c023-08ecb28d74d1"
      },
      "source": [
        "# drop null values \n",
        "print(len(data))\n",
        "data.dropna(how=\"any\", inplace=True, axis=1)\n",
        "print(len(data))\n",
        "# no null values "
      ],
      "execution_count": null,
      "outputs": [
        {
          "output_type": "stream",
          "name": "stdout",
          "text": [
            "5572\n",
            "5572\n"
          ]
        }
      ]
    },
    {
      "cell_type": "code",
      "metadata": {
        "colab": {
          "base_uri": "https://localhost:8080/",
          "height": 171
        },
        "id": "cZfX0hnziArB",
        "outputId": "4fd8d98b-ba81-47c4-a963-96b41345e2d4"
      },
      "source": [
        "# find frequency of the two classes \n",
        "data.groupby('Label').describe()"
      ],
      "execution_count": null,
      "outputs": [
        {
          "output_type": "execute_result",
          "data": {
            "text/html": [
              "<div>\n",
              "<style scoped>\n",
              "    .dataframe tbody tr th:only-of-type {\n",
              "        vertical-align: middle;\n",
              "    }\n",
              "\n",
              "    .dataframe tbody tr th {\n",
              "        vertical-align: top;\n",
              "    }\n",
              "\n",
              "    .dataframe thead tr th {\n",
              "        text-align: left;\n",
              "    }\n",
              "\n",
              "    .dataframe thead tr:last-of-type th {\n",
              "        text-align: right;\n",
              "    }\n",
              "</style>\n",
              "<table border=\"1\" class=\"dataframe\">\n",
              "  <thead>\n",
              "    <tr>\n",
              "      <th></th>\n",
              "      <th colspan=\"4\" halign=\"left\">Email</th>\n",
              "    </tr>\n",
              "    <tr>\n",
              "      <th></th>\n",
              "      <th>count</th>\n",
              "      <th>unique</th>\n",
              "      <th>top</th>\n",
              "      <th>freq</th>\n",
              "    </tr>\n",
              "    <tr>\n",
              "      <th>Label</th>\n",
              "      <th></th>\n",
              "      <th></th>\n",
              "      <th></th>\n",
              "      <th></th>\n",
              "    </tr>\n",
              "  </thead>\n",
              "  <tbody>\n",
              "    <tr>\n",
              "      <th>0</th>\n",
              "      <td>4825</td>\n",
              "      <td>4516</td>\n",
              "      <td>Sorry, I'll call later</td>\n",
              "      <td>30</td>\n",
              "    </tr>\n",
              "    <tr>\n",
              "      <th>1</th>\n",
              "      <td>747</td>\n",
              "      <td>653</td>\n",
              "      <td>Please call our customer service representativ...</td>\n",
              "      <td>4</td>\n",
              "    </tr>\n",
              "  </tbody>\n",
              "</table>\n",
              "</div>"
            ],
            "text/plain": [
              "      Email                                                               \n",
              "      count unique                                                top freq\n",
              "Label                                                                     \n",
              "0      4825   4516                             Sorry, I'll call later   30\n",
              "1       747    653  Please call our customer service representativ...    4"
            ]
          },
          "metadata": {},
          "execution_count": 9
        }
      ]
    },
    {
      "cell_type": "markdown",
      "metadata": {
        "id": "b2TTOq7hkGl4"
      },
      "source": [
        "Ad the data indicates, we have 5x more \"Ham\" than \"Spam\" class, which causes imbalanced class distribution in the dataset. "
      ]
    },
    {
      "cell_type": "markdown",
      "metadata": {
        "id": "0uOW8K6Wk69u"
      },
      "source": [
        "# Pre-Processing "
      ]
    },
    {
      "cell_type": "markdown",
      "metadata": {
        "id": "PtK1htcNluuy"
      },
      "source": [
        "# Cleaning "
      ]
    },
    {
      "cell_type": "code",
      "metadata": {
        "id": "5g8OO4H0iLjc"
      },
      "source": [
        "\n",
        "# This function clean the text to make it lowercase, remove question marks, brackets, punctuation, and numbers\n",
        "def cleaning(text):\n",
        "    # make text lowercase \n",
        "    text = str(text).lower()\n",
        "    # remove question marks, brackets\n",
        "    text = re.sub('\\[.*?\\]', '', text)\n",
        "    # remove website name in the emails \n",
        "    text = re.sub('https?://\\S+|www\\.\\S+', '', text)\n",
        "    # remove punctuation \n",
        "    text = re.sub('[%s]' % re.escape(string.punctuation), '', text)\n",
        "    # remove next line charchter \n",
        "    text = re.sub('\\n', '', text)\n",
        "    # remove numbers\n",
        "    text = re.sub('\\w*\\d\\w*', '', text)\n",
        "    return text\n",
        "\n",
        "data['ProcessedEmail'] = data['Email'].apply(cleaning)"
      ],
      "execution_count": null,
      "outputs": []
    },
    {
      "cell_type": "markdown",
      "metadata": {
        "id": "vLVKWTyOmkLD"
      },
      "source": [
        "# StopWords"
      ]
    },
    {
      "cell_type": "code",
      "metadata": {
        "colab": {
          "base_uri": "https://localhost:8080/",
          "height": 237
        },
        "id": "NnVEWsWGl6fw",
        "outputId": "7da52f3f-eda1-4f05-a9b2-ad12dad0b30b"
      },
      "source": [
        "# ref: https://www.geeksforgeeks.org/removing-stop-words-nltk-python/\n",
        "import nltk\n",
        "nltk.download(\"stopwords\")\n",
        "from nltk.corpus import stopwords\n",
        "\n",
        "# A stop word is a commonly used word (such as “the”, “a”, “an”, “in”) are removed \n",
        "stop_words = stopwords.words('english')\n",
        "\n",
        "def remove_stopwords(text):\n",
        "    text = ' '.join(word for word in text.split(' ') if word not in stop_words)\n",
        "    return text\n",
        "    \n",
        "data['ProcessedEmail'] = data['ProcessedEmail'].apply(remove_stopwords)\n",
        "data.head()"
      ],
      "execution_count": null,
      "outputs": [
        {
          "output_type": "stream",
          "name": "stderr",
          "text": [
            "[nltk_data] Downloading package stopwords to /root/nltk_data...\n",
            "[nltk_data]   Unzipping corpora/stopwords.zip.\n"
          ]
        },
        {
          "output_type": "execute_result",
          "data": {
            "text/html": [
              "<div>\n",
              "<style scoped>\n",
              "    .dataframe tbody tr th:only-of-type {\n",
              "        vertical-align: middle;\n",
              "    }\n",
              "\n",
              "    .dataframe tbody tr th {\n",
              "        vertical-align: top;\n",
              "    }\n",
              "\n",
              "    .dataframe thead th {\n",
              "        text-align: right;\n",
              "    }\n",
              "</style>\n",
              "<table border=\"1\" class=\"dataframe\">\n",
              "  <thead>\n",
              "    <tr style=\"text-align: right;\">\n",
              "      <th></th>\n",
              "      <th>Label</th>\n",
              "      <th>Email</th>\n",
              "      <th>ProcessedEmail</th>\n",
              "    </tr>\n",
              "  </thead>\n",
              "  <tbody>\n",
              "    <tr>\n",
              "      <th>0</th>\n",
              "      <td>0</td>\n",
              "      <td>Go until jurong point, crazy.. Available only ...</td>\n",
              "      <td>go jurong point crazy available bugis n great ...</td>\n",
              "    </tr>\n",
              "    <tr>\n",
              "      <th>1</th>\n",
              "      <td>0</td>\n",
              "      <td>Ok lar... Joking wif u oni...</td>\n",
              "      <td>ok lar joking wif u oni</td>\n",
              "    </tr>\n",
              "    <tr>\n",
              "      <th>2</th>\n",
              "      <td>1</td>\n",
              "      <td>Free entry in 2 a wkly comp to win FA Cup fina...</td>\n",
              "      <td>free entry  wkly comp win fa cup final tkts  m...</td>\n",
              "    </tr>\n",
              "    <tr>\n",
              "      <th>3</th>\n",
              "      <td>0</td>\n",
              "      <td>U dun say so early hor... U c already then say...</td>\n",
              "      <td>u dun say early hor u c already say</td>\n",
              "    </tr>\n",
              "    <tr>\n",
              "      <th>4</th>\n",
              "      <td>0</td>\n",
              "      <td>Nah I don't think he goes to usf, he lives aro...</td>\n",
              "      <td>nah dont think goes usf lives around though</td>\n",
              "    </tr>\n",
              "  </tbody>\n",
              "</table>\n",
              "</div>"
            ],
            "text/plain": [
              "   Label  ...                                     ProcessedEmail\n",
              "0      0  ...  go jurong point crazy available bugis n great ...\n",
              "1      0  ...                            ok lar joking wif u oni\n",
              "2      1  ...  free entry  wkly comp win fa cup final tkts  m...\n",
              "3      0  ...                u dun say early hor u c already say\n",
              "4      0  ...        nah dont think goes usf lives around though\n",
              "\n",
              "[5 rows x 3 columns]"
            ]
          },
          "metadata": {},
          "execution_count": 11
        }
      ]
    },
    {
      "cell_type": "markdown",
      "metadata": {
        "id": "GqCGm4XSodhk"
      },
      "source": [
        "## Stemming\n",
        "\n",
        "removing the suffix from a word and reduce it to its root word. For example: “Flying” is a word and its suffix is “ing”, if we remove “ing” from “Flying” then we will get base word or root word which is “Fly”. \n"
      ]
    },
    {
      "cell_type": "code",
      "metadata": {
        "id": "L87jw3dtmrZd",
        "colab": {
          "base_uri": "https://localhost:8080/",
          "height": 202
        },
        "outputId": "29674148-04d2-4e28-df09-f91aabf37ea4"
      },
      "source": [
        "stemmer = nltk.SnowballStemmer(\"english\")\n",
        "\n",
        "# stemming function \n",
        "def stemm_text(text):\n",
        "    text = ' '.join(stemmer.stem(word) for word in text.split(' '))\n",
        "    return text\n",
        "\n",
        "data['ProcessedEmail'] = data['ProcessedEmail'].apply(stemm_text)\n",
        "data.head()"
      ],
      "execution_count": null,
      "outputs": [
        {
          "output_type": "execute_result",
          "data": {
            "text/html": [
              "<div>\n",
              "<style scoped>\n",
              "    .dataframe tbody tr th:only-of-type {\n",
              "        vertical-align: middle;\n",
              "    }\n",
              "\n",
              "    .dataframe tbody tr th {\n",
              "        vertical-align: top;\n",
              "    }\n",
              "\n",
              "    .dataframe thead th {\n",
              "        text-align: right;\n",
              "    }\n",
              "</style>\n",
              "<table border=\"1\" class=\"dataframe\">\n",
              "  <thead>\n",
              "    <tr style=\"text-align: right;\">\n",
              "      <th></th>\n",
              "      <th>Label</th>\n",
              "      <th>Email</th>\n",
              "      <th>ProcessedEmail</th>\n",
              "    </tr>\n",
              "  </thead>\n",
              "  <tbody>\n",
              "    <tr>\n",
              "      <th>0</th>\n",
              "      <td>0</td>\n",
              "      <td>Go until jurong point, crazy.. Available only ...</td>\n",
              "      <td>go jurong point crazi avail bugi n great world...</td>\n",
              "    </tr>\n",
              "    <tr>\n",
              "      <th>1</th>\n",
              "      <td>0</td>\n",
              "      <td>Ok lar... Joking wif u oni...</td>\n",
              "      <td>ok lar joke wif u oni</td>\n",
              "    </tr>\n",
              "    <tr>\n",
              "      <th>2</th>\n",
              "      <td>1</td>\n",
              "      <td>Free entry in 2 a wkly comp to win FA Cup fina...</td>\n",
              "      <td>free entri  wkli comp win fa cup final tkts  m...</td>\n",
              "    </tr>\n",
              "    <tr>\n",
              "      <th>3</th>\n",
              "      <td>0</td>\n",
              "      <td>U dun say so early hor... U c already then say...</td>\n",
              "      <td>u dun say earli hor u c alreadi say</td>\n",
              "    </tr>\n",
              "    <tr>\n",
              "      <th>4</th>\n",
              "      <td>0</td>\n",
              "      <td>Nah I don't think he goes to usf, he lives aro...</td>\n",
              "      <td>nah dont think goe usf live around though</td>\n",
              "    </tr>\n",
              "  </tbody>\n",
              "</table>\n",
              "</div>"
            ],
            "text/plain": [
              "   Label  ...                                     ProcessedEmail\n",
              "0      0  ...  go jurong point crazi avail bugi n great world...\n",
              "1      0  ...                              ok lar joke wif u oni\n",
              "2      1  ...  free entri  wkli comp win fa cup final tkts  m...\n",
              "3      0  ...                u dun say earli hor u c alreadi say\n",
              "4      0  ...          nah dont think goe usf live around though\n",
              "\n",
              "[5 rows x 3 columns]"
            ]
          },
          "metadata": {},
          "execution_count": 12
        }
      ]
    },
    {
      "cell_type": "code",
      "metadata": {
        "id": "qfXz-0MzrEKq"
      },
      "source": [
        "# Split word in a sentence \n",
        "data['splited_word'] = data['ProcessedEmail'].str.split()\n",
        "# Calculate the length of splitted words \n",
        "data['length_word'] = data['splited_word'].apply(len)\n",
        "# maximum number of words in a sequence \n",
        "max_words = data['length_word'].max() # 80 "
      ],
      "execution_count": null,
      "outputs": []
    },
    {
      "cell_type": "markdown",
      "metadata": {
        "id": "fBrLfNgRVF-R"
      },
      "source": [
        "# Training with two major NLP models:"
      ]
    },
    {
      "cell_type": "markdown",
      "metadata": {
        "id": "RVF4wk04GgKU"
      },
      "source": [
        "## 1-LSTM MODEL "
      ]
    },
    {
      "cell_type": "code",
      "metadata": {
        "id": "u1dwsMnyGejV"
      },
      "source": [
        "# LSTM Packages \n",
        "from keras.models import Model\n",
        "from keras.layers import LSTM, Activation, Dense, Dropout, Input, Embedding\n",
        "from tensorflow.keras.optimizers import RMSprop\n",
        "from keras.preprocessing.text import Tokenizer\n",
        "from keras.preprocessing import sequence\n",
        "from tensorflow.keras.utils import to_categorical"
      ],
      "execution_count": null,
      "outputs": []
    },
    {
      "cell_type": "code",
      "metadata": {
        "id": "LRgIG-yvLyo4"
      },
      "source": [
        "X = data['ProcessedEmail']\n",
        "y = data['Label']\n",
        "le = LabelEncoder()\n",
        "Y_lstm = le.fit_transform(y)\n",
        "# reshaping y to one column \n",
        "Y_lstm = Y_lstm.reshape(-1,1)"
      ],
      "execution_count": null,
      "outputs": []
    },
    {
      "cell_type": "code",
      "metadata": {
        "id": "IycbOQHYN5O_"
      },
      "source": [
        "X_train,X_test,Y_train,Y_test = train_test_split(X,y,test_size=0.2)"
      ],
      "execution_count": null,
      "outputs": []
    },
    {
      "cell_type": "markdown",
      "metadata": {
        "id": "VuIB6aX1RIhO"
      },
      "source": [
        "### Process the data\n",
        "Tokenize the data and convert the text to sequences.\n",
        "Add padding to ensure that all the sequences have the same shape."
      ]
    },
    {
      "cell_type": "code",
      "metadata": {
        "id": "EQLai4WlPL3c"
      },
      "source": [
        "max_word = 1000 # max number of words in the dictionary \n",
        "max_len = 150 # maximum length of a sequence \n",
        "# This class allows to vectorize a text corpus, by turning each text into either a sequence of integers (each integer being the index of a token in a dictionary) \n",
        "tok = Tokenizer(num_words=max_word)\n",
        "# fit_on_texts Updates internal vocabulary based on a list of texts. This method creates the vocabulary index based on word frequency. So if you give it something like, \n",
        "# \"The cat sat on the mat.\" It will create a dictionary s.t. word_index[\"the\"] = 1, word_index[\"cat\"] = 2 it is word -> index dictionary so every word gets a unique integer value. \n",
        "# Lower integer means more frequent word \n",
        "tok.fit_on_texts(X_train)\n",
        "# Transforms each text in texts to a sequence of integers. it basically takes each word in the text and replaces it with its corresponding integer value from the word_index dictionary.\n",
        "sequences = tok.texts_to_sequences(X_train)\n",
        "# pad_sequences is used to ensure that all sequences in a list have the same length equal to the maximum length of sentences\n",
        "sequences_matrix = sequence.pad_sequences(sequences,maxlen=max_len)"
      ],
      "execution_count": null,
      "outputs": []
    },
    {
      "cell_type": "code",
      "metadata": {
        "id": "ebzlRV19OjDB"
      },
      "source": [
        "def LSTM_arch():\n",
        "    inputs = Input(name='inputs',shape=[max_len])\n",
        "    # batch size is chosen 50 \n",
        "    layer = Embedding(max_word,50,input_length=max_len)(inputs)\n",
        "    layer = LSTM(64)(layer)\n",
        "    layer = Dense(256,name='FC1')(layer)\n",
        "    layer = Activation('relu')(layer)\n",
        "    # 50 percent chance of bypassing the next layer \n",
        "    layer = Dropout(0.5)(layer)\n",
        "    layer = Dense(1,name='out_layer')(layer)\n",
        "    # classfier activation \n",
        "    layer = Activation('sigmoid')(layer)\n",
        "    model = Model(inputs=inputs,outputs=layer)\n",
        "    return model"
      ],
      "execution_count": null,
      "outputs": []
    },
    {
      "cell_type": "code",
      "metadata": {
        "colab": {
          "base_uri": "https://localhost:8080/"
        },
        "id": "lvvm3m4mOl8K",
        "outputId": "65d9d1b1-0a95-428f-fa30-b72a0b1ea9f4"
      },
      "source": [
        "model_lstm = LSTM_arch()\n",
        "model_lstm.summary()\n",
        "#compares each of the predicted probabilities to actual class output which can be either 0 or 1. \n",
        "#It then calculates the score that penalizes the probabilities based on the distance from the expected value. That means how close or far from the actual value\n",
        "# Accuracy = total number of correct predictions/total number of predictions \n",
        "model_lstm.compile(loss='binary_crossentropy', optimizer=RMSprop(),metrics=['accuracy'])"
      ],
      "execution_count": null,
      "outputs": [
        {
          "output_type": "stream",
          "name": "stdout",
          "text": [
            "Model: \"model\"\n",
            "_________________________________________________________________\n",
            "Layer (type)                 Output Shape              Param #   \n",
            "=================================================================\n",
            "inputs (InputLayer)          [(None, 150)]             0         \n",
            "_________________________________________________________________\n",
            "embedding (Embedding)        (None, 150, 50)           50000     \n",
            "_________________________________________________________________\n",
            "lstm (LSTM)                  (None, 64)                29440     \n",
            "_________________________________________________________________\n",
            "FC1 (Dense)                  (None, 256)               16640     \n",
            "_________________________________________________________________\n",
            "activation (Activation)      (None, 256)               0         \n",
            "_________________________________________________________________\n",
            "dropout (Dropout)            (None, 256)               0         \n",
            "_________________________________________________________________\n",
            "out_layer (Dense)            (None, 1)                 257       \n",
            "_________________________________________________________________\n",
            "activation_1 (Activation)    (None, 1)                 0         \n",
            "=================================================================\n",
            "Total params: 96,337\n",
            "Trainable params: 96,337\n",
            "Non-trainable params: 0\n",
            "_________________________________________________________________\n"
          ]
        }
      ]
    },
    {
      "cell_type": "code",
      "metadata": {
        "colab": {
          "base_uri": "https://localhost:8080/"
        },
        "id": "Y1uRymRxPebv",
        "outputId": "7851920c-21b5-482e-a1ab-30d7b02e2a84"
      },
      "source": [
        "history_lstm = model_lstm.fit(sequences_matrix,Y_train,batch_size=128,epochs=10, validation_split=0.2)"
      ],
      "execution_count": null,
      "outputs": [
        {
          "output_type": "stream",
          "name": "stdout",
          "text": [
            "Epoch 1/10\n",
            "28/28 [==============================] - 7s 35ms/step - loss: 0.3702 - accuracy: 0.8597 - val_loss: 0.1938 - val_accuracy: 0.9395\n",
            "Epoch 2/10\n",
            "28/28 [==============================] - 0s 13ms/step - loss: 0.1308 - accuracy: 0.9658 - val_loss: 0.0725 - val_accuracy: 0.9798\n",
            "Epoch 3/10\n",
            "28/28 [==============================] - 0s 13ms/step - loss: 0.0629 - accuracy: 0.9820 - val_loss: 0.0510 - val_accuracy: 0.9854\n",
            "Epoch 4/10\n",
            "28/28 [==============================] - 0s 13ms/step - loss: 0.0409 - accuracy: 0.9877 - val_loss: 0.0500 - val_accuracy: 0.9843\n",
            "Epoch 5/10\n",
            "28/28 [==============================] - 0s 13ms/step - loss: 0.0327 - accuracy: 0.9902 - val_loss: 0.0718 - val_accuracy: 0.9742\n",
            "Epoch 6/10\n",
            "28/28 [==============================] - 0s 13ms/step - loss: 0.0279 - accuracy: 0.9919 - val_loss: 0.0514 - val_accuracy: 0.9865\n",
            "Epoch 7/10\n",
            "28/28 [==============================] - 0s 13ms/step - loss: 0.0213 - accuracy: 0.9935 - val_loss: 0.0642 - val_accuracy: 0.9865\n",
            "Epoch 8/10\n",
            "28/28 [==============================] - 0s 13ms/step - loss: 0.0188 - accuracy: 0.9935 - val_loss: 0.0703 - val_accuracy: 0.9843\n",
            "Epoch 9/10\n",
            "28/28 [==============================] - 0s 13ms/step - loss: 0.0156 - accuracy: 0.9952 - val_loss: 0.0775 - val_accuracy: 0.9865\n",
            "Epoch 10/10\n",
            "28/28 [==============================] - 0s 13ms/step - loss: 0.0160 - accuracy: 0.9952 - val_loss: 0.0758 - val_accuracy: 0.9865\n"
          ]
        }
      ]
    },
    {
      "cell_type": "code",
      "metadata": {
        "id": "sXQzun1-O5Q-"
      },
      "source": [
        "# Function to draw learning curves \n",
        "def plot_learning_curves(history, arr):\n",
        "    fig, ax = plt.subplots(1, 2, figsize=(20, 5))\n",
        "    for idx in range(2):\n",
        "        ax[idx].plot(history.history[arr[idx][0]])\n",
        "        ax[idx].plot(history.history[arr[idx][1]])\n",
        "        ax[idx].legend([arr[idx][0], arr[idx][1]],fontsize=18)\n",
        "        ax[idx].set_xlabel('A ',fontsize=16)\n",
        "        ax[idx].set_ylabel('B',fontsize=16)\n",
        "        ax[idx].set_title(arr[idx][0] + ' X ' + arr[idx][1],fontsize=16)"
      ],
      "execution_count": null,
      "outputs": []
    },
    {
      "cell_type": "code",
      "metadata": {
        "colab": {
          "base_uri": "https://localhost:8080/",
          "height": 356
        },
        "id": "SP1OCC_7Px_V",
        "outputId": "546b7a16-397e-47fc-c319-13754ca8bf00"
      },
      "source": [
        "# plot learning curve for loss and accuracy of training and validation data \n",
        "plot_learning_curves(history_lstm, [['loss', 'val_loss'],['accuracy', 'val_accuracy']])\n"
      ],
      "execution_count": null,
      "outputs": [
        {
          "output_type": "display_data",
          "data": {
            "image/png": "[encoded data removed]",
            "text/plain": [
              "<Figure size 1440x360 with 2 Axes>"
            ]
          },
          "metadata": {
            "needs_background": "light"
          }
        }
      ]
    },
    {
      "cell_type": "markdown",
      "metadata": {
        "id": "8Xo8udlBQODw"
      },
      "source": [
        "# Evaluation of LSTM Model on the test set "
      ]
    },
    {
      "cell_type": "code",
      "metadata": {
        "id": "1FK7Ms2sQDOn"
      },
      "source": [
        "test_sequences = tok.texts_to_sequences(X_test)\n",
        "test_sequences_matrix = sequence.pad_sequences(test_sequences,maxlen=max_len)"
      ],
      "execution_count": null,
      "outputs": []
    },
    {
      "cell_type": "code",
      "metadata": {
        "colab": {
          "base_uri": "https://localhost:8080/"
        },
        "id": "QrymGxf_Qbj2",
        "outputId": "23ad5539-32f1-405f-ac51-3fe81076fe34"
      },
      "source": [
        "accuracy = model_lstm.evaluate(test_sequences_matrix,Y_test)\n",
        "print('Test set\\n  Loss: {:0.3f}\\n  Accuracy: {:0.3f}'.format(accuracy[0],accuracy[1]))"
      ],
      "execution_count": null,
      "outputs": [
        {
          "output_type": "stream",
          "name": "stdout",
          "text": [
            "35/35 [==============================] - 0s 4ms/step - loss: 0.0832 - accuracy: 0.9821\n",
            "Test set\n",
            "  Loss: 0.083\n",
            "  Accuracy: 0.982\n"
          ]
        }
      ]
    },
    {
      "cell_type": "markdown",
      "metadata": {
        "id": "d_n-UK8YxPvJ"
      },
      "source": [
        "## 2-BERT MODEL \n"
      ]
    },
    {
      "cell_type": "markdown",
      "metadata": {
        "id": "WtIfRMfbRo3O"
      },
      "source": [
        "To train such a model, you mainly have to train the classifier, with minimal changes happening to the BERT model during the training phase. This training process is called Fine-Tuning"
      ]
    },
    {
      "cell_type": "markdown",
      "metadata": {
        "id": "62Uisa2-RXVO"
      },
      "source": [
        "![Screen Shot 2021-09-29 at 8.56.03 AM.png](data:image/png;base64,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)"
      ]
    },
    {
      "cell_type": "code",
      "metadata": {
        "id": "Z38O5_Rw5b_r",
        "colab": {
          "base_uri": "https://localhost:8080/",
          "height": 144,
          "referenced_widgets": [
            "582bc686141643329e681bb0f15389fe",
            "927b3848e549416eaf91763c697c3c13",
            "e25a44b9c28440bf999096bed7152fec",
            "e3598774b2a54dbea8db58ebc92d44c6",
            "6c9aa1d361854ec5b41d6c49548fb6ad",
            "b4b6603eb88c4e88855fa717ef2213b9",
            "078a4713e3244e54807450b7b54bd338",
            "1df881660cf14a7cb60f55426d40b419",
            "0bd5166be4bf49f8957b9d579d83ca2f",
            "d67778626450440b84a69a8b6ea276cd",
            "8effc7731ad748d9958588201534cb5b",
            "a83b0f329739416c873b2e2214007cbd",
            "b552fe5deabb4fb4bd5c655d671a7b6e",
            "7907a2abf89d4dafbc8c5b6cc79fef66",
            "9f0c9ea5527f43a088e7463d74aff931",
            "6934acacf7e54baba0884ef571a80bc1",
            "18d67688b0424213aacb3bb5e9b22b0c",
            "dea42bc5da82403c88592094a783799f",
            "004b22566e934ea7b937c2bc5a3b8c6b",
            "f8184457433d49119ad31384c346a4f3",
            "c69e858de2094f05971e9b6582c8d2db",
            "370b0e9e81304432aeba5a3ad1ca0fcc",
            "3ee9d00585dd44629d20c40e3d4c3138",
            "15563ea924e846599b739494cd162b4f",
            "04b6c908664b40698dc6fc9fab5f6bcc",
            "879244df13c043cc8afb961f09e4a2a2",
            "88df188620b44312964ab30f070eb099",
            "d2250e11daf34773bfc9fef6b40355ae",
            "7bae564ef37946588fda0f8a9fa14ec9",
            "cb06b2e2626e4e5c8f52d2e3d5af6809",
            "6b8d7cac18f343edb4da4fb68832084a",
            "696ae7f8a35e400f9f6098fdaba066e9",
            "d4c05c9962604a1d903f4cd1477a72f5",
            "e2e351efa76d4ce0a398b65e6094b99a",
            "2cef23a7e9b847ce90e02a205cbc7591",
            "0e38a2cc9e2a4517a9ab22a829d9e580",
            "33e6efa9a64a43a09a9eff8e352fbac5",
            "68d46a46895948e694d4f02361c59d24",
            "799547a6b09c40728690dc593be2d490",
            "33bc1218346641c0a2bd7801771acba7",
            "10cdea22f1a8467e89f34a376479bc46",
            "5d5e165548dc488090bf287c0d799d6c",
            "1f29ccc5593a49ca983f52e81ece3c87",
            "606cebb75e00491592c6cfe23780ca7e"
          ]
        },
        "outputId": "bd8d2d2d-b13b-44ec-b685-f833e897880c"
      },
      "source": [
        "# Deep Learning Packages  \n",
        "import tensorflow as tf\n",
        "from tensorflow.keras.layers import Dense, Input\n",
        "from tensorflow.keras.optimizers import Adam\n",
        "from tensorflow.keras.models import Model\n",
        "from tensorflow.keras.callbacks import ModelCheckpoint\n",
        "\n",
        "import transformers\n",
        "from transformers import TFBertModel\n",
        "from transformers import BertTokenizer\n",
        "\n",
        "from tqdm.notebook import tqdm\n",
        "from tokenizers import BertWordPieceTokenizer"
      ],
      "execution_count": null,
      "outputs": [
        {
          "output_type": "display_data",
          "data": {
            "application/vnd.jupyter.widget-view+json": {
              "model_id": "582bc686141643329e681bb0f15389fe",
              "version_minor": 0,
              "version_major": 2
            },
            "text/plain": [
              "Downloading:   0%|          | 0.00/226k [00:00<?, ?B/s]"
            ]
          },
          "metadata": {}
        },
        {
          "output_type": "display_data",
          "data": {
            "application/vnd.jupyter.widget-view+json": {
              "model_id": "a83b0f329739416c873b2e2214007cbd",
              "version_minor": 0,
              "version_major": 2
            },
            "text/plain": [
              "Downloading:   0%|          | 0.00/28.0 [00:00<?, ?B/s]"
            ]
          },
          "metadata": {}
        },
        {
          "output_type": "display_data",
          "data": {
            "application/vnd.jupyter.widget-view+json": {
              "model_id": "3ee9d00585dd44629d20c40e3d4c3138",
              "version_minor": 0,
              "version_major": 2
            },
            "text/plain": [
              "Downloading:   0%|          | 0.00/455k [00:00<?, ?B/s]"
            ]
          },
          "metadata": {}
        },
        {
          "output_type": "display_data",
          "data": {
            "application/vnd.jupyter.widget-view+json": {
              "model_id": "e2e351efa76d4ce0a398b65e6094b99a",
              "version_minor": 0,
              "version_major": 2
            },
            "text/plain": [
              "Downloading:   0%|          | 0.00/571 [00:00<?, ?B/s]"
            ]
          },
          "metadata": {}
        }
      ]
    },
    {
      "cell_type": "code",
      "metadata": {
        "id": "W5rhhrWSzIEb"
      },
      "source": [
        "def encoder(data, maximum_length) :\n",
        "\n",
        "    input_ids = []\n",
        "    attention_masks = []\n",
        "\n",
        "    for text in data:\n",
        "        encoded = tokenizer.encode_plus(\n",
        "            text, \n",
        "            # Whether or not to add the special tokens associated with the corresponding model.\n",
        "            add_special_tokens=True,\n",
        "            # The maximum size of a sequence \n",
        "            max_length=maximum_length,\n",
        "            # Padding \n",
        "            pad_to_max_length=True,\n",
        "            # Return attention head for batch(parralization) \n",
        "            return_attention_mask=True,\n",
        "        )\n",
        "        input_ids.append(encoded['input_ids'])\n",
        "        attention_masks.append(encoded['attention_mask'])\n",
        "        \n",
        "    return np.array(input_ids),np.array(attention_masks)\n",
        "\n",
        "\n",
        "def bert_arch(bert_model):\n",
        "    \n",
        "    input_ids = tf.keras.Input(shape=(80,),dtype='int32')\n",
        "    attention_masks = tf.keras.Input(shape=(80,),dtype='int32')\n",
        "\n",
        "    output = bert_model([input_ids,attention_masks])\n",
        "    # take output of bert model (CLS)\n",
        "    output = output[1]\n",
        "    # Classifier (feed forward + sigmoid) \n",
        "    output = tf.keras.layers.Dense(32,activation='relu')(output)\n",
        "    output = tf.keras.layers.Dropout(0.2)(output)\n",
        "    output = tf.keras.layers.Dense(1,activation='sigmoid')(output)\n",
        "    \n",
        "    model = tf.keras.models.Model(inputs = [input_ids,attention_masks],outputs = output)\n",
        "    # compares each of the predicted probabilities to actual class output which can be either 0 or 1. \n",
        "    # It then calculates the score that penalizes the probabilities based on the distance from the expected value. That means how close or far from the actual value\n",
        "    # Accuracy = total number of correct predictions/total number of predictions \n",
        "    model.compile(Adam(learning_rate=1e-5), loss='binary_crossentropy', metrics=['accuracy'])\n",
        "    return model\n",
        "\n"
      ],
      "execution_count": null,
      "outputs": []
    },
    {
      "cell_type": "markdown",
      "metadata": {
        "id": "8Fll7AY5UYl9"
      },
      "source": [
        "![Screen Shot 2021-09-29 at 9.09.16 AM.png](data:image/png;base64,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)"
      ]
    },
    {
      "cell_type": "code",
      "metadata": {
        "colab": {
          "base_uri": "https://localhost:8080/",
          "height": 566,
          "referenced_widgets": [
            "c891ffa098cf49758cb0136967bf14a3",
            "d89150012b9849b19a496f47e32d003d",
            "76bb6d8d59db42adac3b565a0979d0c2",
            "20c01d0dd418400f99d021bf3af9b863",
            "2701fbc4eecc43779a0d9fd5d11fb191",
            "f270b2d8f357489e9251f09fc19b2236",
            "58c24ad53aab4b498654ed0eba82c2a7",
            "fe7146ff26dd4e19be6fcb6bd9cf9419",
            "5058847cbc7e40cf888b997d670d0b20",
            "132233698fc54064b2a7ad60b6ff3e98",
            "145aaab2b12d4115bc6977b732156209"
          ]
        },
        "id": "28PauIrO3FsS",
        "outputId": "d7044227-670d-42f0-9d51-df7ea82a3858"
      },
      "source": [
        "# encoding the training data\n",
        "# The input ids are token indices, numerical representations of tokens building the sequences that will be used as input by the model.\n",
        "# The attention mask is an optional argument used when batching sequences together.\n",
        "train_input_ids, train_attention_masks = encoder(X,max_words)\n",
        "# pretraining Large BERT with 24 encoder, not case sensetive \n",
        "pre_trained_bert_encoder = TFBertModel.from_pretrained('bert-large-uncased')\n",
        "# Create BERT model with NN architure\n",
        "model_bert = bert_arch(pre_trained_bert_encoder)\n",
        "model_bert.summary()"
      ],
      "execution_count": null,
      "outputs": [
        {
          "output_type": "stream",
          "name": "stderr",
          "text": [
            "/usr/local/lib/python3.7/dist-packages/transformers/tokenization_utils_base.py:2217: FutureWarning: The `pad_to_max_length` argument is deprecated and will be removed in a future version, use `padding=True` or `padding='longest'` to pad to the longest sequence in the batch, or use `padding='max_length'` to pad to a max length. In this case, you can give a specific length with `max_length` (e.g. `max_length=45`) or leave max_length to None to pad to the maximal input size of the model (e.g. 512 for Bert).\n",
            "  FutureWarning,\n"
          ]
        },
        {
          "output_type": "display_data",
          "data": {
            "application/vnd.jupyter.widget-view+json": {
              "model_id": "c891ffa098cf49758cb0136967bf14a3",
              "version_minor": 0,
              "version_major": 2
            },
            "text/plain": [
              "Downloading:   0%|          | 0.00/1.37G [00:00<?, ?B/s]"
            ]
          },
          "metadata": {}
        },
        {
          "output_type": "stream",
          "name": "stderr",
          "text": [
            "Some layers from the model checkpoint at bert-large-uncased were not used when initializing TFBertModel: ['mlm___cls', 'nsp___cls']\n",
            "- This IS expected if you are initializing TFBertModel from the checkpoint of a model trained on another task or with another architecture (e.g. initializing a BertForSequenceClassification model from a BertForPreTraining model).\n",
            "- This IS NOT expected if you are initializing TFBertModel from the checkpoint of a model that you expect to be exactly identical (initializing a BertForSequenceClassification model from a BertForSequenceClassification model).\n",
            "All the layers of TFBertModel were initialized from the model checkpoint at bert-large-uncased.\n",
            "If your task is similar to the task the model of the checkpoint was trained on, you can already use TFBertModel for predictions without further training.\n"
          ]
        },
        {
          "output_type": "stream",
          "name": "stdout",
          "text": [
            "Model: \"model_1\"\n",
            "__________________________________________________________________________________________________\n",
            "Layer (type)                    Output Shape         Param #     Connected to                     \n",
            "==================================================================================================\n",
            "input_1 (InputLayer)            [(None, 80)]         0                                            \n",
            "__________________________________________________________________________________________________\n",
            "input_2 (InputLayer)            [(None, 80)]         0                                            \n",
            "__________________________________________________________________________________________________\n",
            "tf_bert_model (TFBertModel)     TFBaseModelOutputWit 335141888   input_1[0][0]                    \n",
            "                                                                 input_2[0][0]                    \n",
            "__________________________________________________________________________________________________\n",
            "dense (Dense)                   (None, 32)           32800       tf_bert_model[0][1]              \n",
            "__________________________________________________________________________________________________\n",
            "dropout_74 (Dropout)            (None, 32)           0           dense[0][0]                      \n",
            "__________________________________________________________________________________________________\n",
            "dense_1 (Dense)                 (None, 1)            33          dropout_74[0][0]                 \n",
            "==================================================================================================\n",
            "Total params: 335,174,721\n",
            "Trainable params: 335,174,721\n",
            "Non-trainable params: 0\n",
            "__________________________________________________________________________________________________\n"
          ]
        }
      ]
    },
    {
      "cell_type": "code",
      "metadata": {
        "colab": {
          "base_uri": "https://localhost:8080/"
        },
        "id": "yFGHkre-3sBX",
        "outputId": "949209f3-6bea-4499-8570-34072bad3236"
      },
      "source": [
        "history_bert = model_bert.fit(\n",
        "    [train_input_ids, train_attention_masks],\n",
        "    y,\n",
        "    validation_split=0.2, \n",
        "    epochs= 10,\n",
        "    batch_size=10\n",
        ")\n"
      ],
      "execution_count": null,
      "outputs": [
        {
          "output_type": "stream",
          "name": "stdout",
          "text": [
            "Epoch 1/10\n",
            "446/446 [==============================] - 215s 402ms/step - loss: 0.1946 - accuracy: 0.9289 - val_loss: 0.1259 - val_accuracy: 0.9668\n",
            "Epoch 2/10\n",
            "446/446 [==============================] - 173s 388ms/step - loss: 0.0860 - accuracy: 0.9782 - val_loss: 0.0637 - val_accuracy: 0.9821\n",
            "Epoch 3/10\n",
            "446/446 [==============================] - 173s 389ms/step - loss: 0.0702 - accuracy: 0.9843 - val_loss: 0.0799 - val_accuracy: 0.9713\n",
            "Epoch 4/10\n",
            "446/446 [==============================] - 173s 389ms/step - loss: 0.0424 - accuracy: 0.9906 - val_loss: 0.0656 - val_accuracy: 0.9776\n",
            "Epoch 5/10\n",
            "446/446 [==============================] - 173s 388ms/step - loss: 0.0426 - accuracy: 0.9908 - val_loss: 0.0695 - val_accuracy: 0.9821\n",
            "Epoch 6/10\n",
            "446/446 [==============================] - 173s 389ms/step - loss: 0.0279 - accuracy: 0.9939 - val_loss: 0.0572 - val_accuracy: 0.9830\n",
            "Epoch 7/10\n",
            "446/446 [==============================] - 173s 388ms/step - loss: 0.0141 - accuracy: 0.9948 - val_loss: 0.0811 - val_accuracy: 0.9848\n",
            "Epoch 8/10\n",
            "446/446 [==============================] - 173s 388ms/step - loss: 0.0140 - accuracy: 0.9964 - val_loss: 0.0629 - val_accuracy: 0.9848\n",
            "Epoch 9/10\n",
            "446/446 [==============================] - 173s 389ms/step - loss: 0.0140 - accuracy: 0.9960 - val_loss: 0.0745 - val_accuracy: 0.9812\n",
            "Epoch 10/10\n",
            "446/446 [==============================] - 173s 389ms/step - loss: 0.0039 - accuracy: 0.9989 - val_loss: 0.0913 - val_accuracy: 0.9794\n"
          ]
        }
      ]
    },
    {
      "cell_type": "code",
      "metadata": {
        "colab": {
          "base_uri": "https://localhost:8080/"
        },
        "id": "9MHyYbIJ3vX1",
        "outputId": "008e8ddd-8039-4af6-c96e-18369204093a"
      },
      "source": [
        "plot_learning_curves(history_bert, [['loss', 'val_loss'],['accuracy', 'val_accuracy']])\n"
      ],
      "execution_count": null,
      "outputs": [
        {
          "output_type": "display_data",
          "data": {
            "image/png": "[encoded data removed]",
            "text/plain": [
              "<Figure size 1440x360 with 2 Axes>"
            ]
          },
          "metadata": {
            "needs_background": "light"
          }
        }
      ]
    },
    {
      "cell_type": "markdown",
      "metadata": {
        "id": "CZMw_AwTSCgK"
      },
      "source": [
        "# Evaluation of Bert model on the test set "
      ]
    },
    {
      "cell_type": "code",
      "metadata": {
        "colab": {
          "base_uri": "https://localhost:8080/"
        },
        "id": "Zlvdi-YcTXwY",
        "outputId": "64db8698-e720-4a49-ffd2-26531ce40b3a"
      },
      "source": [
        "train_input_ids, train_attention_masks = encoder(X_test,max_words)\n"
      ],
      "execution_count": null,
      "outputs": [
        {
          "output_type": "stream",
          "name": "stderr",
          "text": [
            "/usr/local/lib/python3.7/dist-packages/transformers/tokenization_utils_base.py:2217: FutureWarning: The `pad_to_max_length` argument is deprecated and will be removed in a future version, use `padding=True` or `padding='longest'` to pad to the longest sequence in the batch, or use `padding='max_length'` to pad to a max length. In this case, you can give a specific length with `max_length` (e.g. `max_length=45`) or leave max_length to None to pad to the maximal input size of the model (e.g. 512 for Bert).\n",
            "  FutureWarning,\n"
          ]
        }
      ]
    },
    {
      "cell_type": "code",
      "metadata": {
        "colab": {
          "base_uri": "https://localhost:8080/"
        },
        "id": "WcO64k2YR6-i",
        "outputId": "d2dc9df5-da55-451b-b296-5660e015ac1b"
      },
      "source": [
        "accuracy = model_bert.evaluate([train_input_ids, train_attention_masks], Y_test)\n",
        "print('Test set\\n  Loss: {:0.3f}\\n  Accuracy: {:0.3f}'.format(accuracy[0],accuracy[1]))"
      ],
      "execution_count": null,
      "outputs": [
        {
          "output_type": "stream",
          "name": "stdout",
          "text": [
            "35/35 [==============================] - 12s 344ms/step - loss: 0.0284 - accuracy: 0.9937\n",
            "Test set\n",
            "  Loss: 0.028\n",
            "  Accuracy: 0.994\n"
          ]
        }
      ]
    },
    {
      "cell_type": "markdown",
      "metadata": {
        "id": "1EsCM9jAT5KH"
      },
      "source": [
        "**It can be deducted that BERT model with fewer training epochs have better performance than LSTM model.**"
      ]
    }
  ]
}